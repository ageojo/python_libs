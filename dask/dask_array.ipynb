{
 "cells": [
  {
   "cell_type": "markdown",
   "metadata": {},
   "source": [
    "Dask Array implements a subset of the NumPy ndarray interface using blocked algorithms, cutting up the large array into many small arrays. This lets us compute on arrays larger than memory using all of our cores. We coordinate these blocked algorithms using dask graphs.  \n",
    "\n",
    "Dask array used in fields like atmospheric and oceanographic science, large scale imaging, genomics, numerical algorithms for optimization or statistics , and more."
   ]
  },
  {
   "cell_type": "code",
   "execution_count": 4,
   "metadata": {
    "ExecuteTime": {
     "end_time": "2018-03-15T19:03:47.473553Z",
     "start_time": "2018-03-15T19:03:47.468521Z"
    }
   },
   "outputs": [],
   "source": [
    "import dask\n",
    "import dask.bag as db\n",
    "import dask.array as da\n",
    "import numpy as np\n",
    "from dask import delayed"
   ]
  },
  {
   "cell_type": "markdown",
   "metadata": {},
   "source": [
    "`dask.array.from_array(x, chunks, name=None, lock=False, asarray=True, fancy=True, getitem=None)` create a dask array from something that looks like an array.  Input must have a `.shape` and support numpy-style slicing  \n",
    "`dask.array.from_delayed(value, shape, dtype, name=None)` create a dask array from a dask delayed value, this routine is useful for constructing dask arrays in an ad-hoc fashion using dask delayed, particularly when combined with stack and concatenate."
   ]
  },
  {
   "cell_type": "code",
   "execution_count": 7,
   "metadata": {
    "ExecuteTime": {
     "end_time": "2018-03-15T19:04:26.822251Z",
     "start_time": "2018-03-15T19:04:26.809777Z"
    }
   },
   "outputs": [
    {
     "data": {
      "text/plain": [
       "dask.array<from-value, shape=(5,), dtype=float64, chunksize=(5,)>"
      ]
     },
     "execution_count": 7,
     "metadata": {},
     "output_type": "execute_result"
    }
   ],
   "source": [
    "value = delayed(np.ones)(5)\n",
    "array = da.from_delayed(value, (5,), float)\n",
    "array"
   ]
  },
  {
   "cell_type": "code",
   "execution_count": 8,
   "metadata": {
    "ExecuteTime": {
     "end_time": "2018-03-15T19:04:33.473461Z",
     "start_time": "2018-03-15T19:04:33.459283Z"
    }
   },
   "outputs": [
    {
     "data": {
      "text/plain": [
       "array([1., 1., 1., 1., 1.])"
      ]
     },
     "execution_count": 8,
     "metadata": {},
     "output_type": "execute_result"
    }
   ],
   "source": [
    "array.compute()"
   ]
  },
  {
   "cell_type": "markdown",
   "metadata": {},
   "source": [
    "`dask.array.store(sources, targets, lock=True, regions=None, compute=True, return_stored=False, **kwargs)` store dask arrays in array-like objects (overwrites data in target)."
   ]
  },
  {
   "cell_type": "markdown",
   "metadata": {},
   "source": [
    "`dask.array.topk(k, x)` the top k elements of an array.  Returns the k greatest elements of the array in sorted order.  Only works on arrays of a single dimension."
   ]
  },
  {
   "cell_type": "code",
   "execution_count": 10,
   "metadata": {
    "ExecuteTime": {
     "end_time": "2018-03-15T19:07:10.595539Z",
     "start_time": "2018-03-15T19:07:10.580219Z"
    }
   },
   "outputs": [
    {
     "data": {
      "text/plain": [
       "array([6, 5])"
      ]
     },
     "execution_count": 10,
     "metadata": {},
     "output_type": "execute_result"
    }
   ],
   "source": [
    "x = np.array([5, 1, 3, 6])\n",
    "d = da.from_array(x, chunks=2)\n",
    "d.topk(2).compute()"
   ]
  },
  {
   "cell_type": "markdown",
   "metadata": {},
   "source": [
    "`dask.array.coarsen(reduction, x, axes, trim_excess=False)` coarsen array by applying reduction to fixed size neighborhoods.  `reduction` is a function like np.sum or np.mean, `x: np.ndarray` is the array to be coarsened.  `axes:dict` mapping of axis to coarsening factor."
   ]
  },
  {
   "cell_type": "code",
   "execution_count": 20,
   "metadata": {
    "ExecuteTime": {
     "end_time": "2018-03-15T19:15:22.740342Z",
     "start_time": "2018-03-15T19:15:22.737332Z"
    }
   },
   "outputs": [],
   "source": [
    "x = np.array([1, 2, 3, 4, 5, 6])"
   ]
  },
  {
   "cell_type": "code",
   "execution_count": 21,
   "metadata": {
    "ExecuteTime": {
     "end_time": "2018-03-15T19:15:23.308017Z",
     "start_time": "2018-03-15T19:15:23.303631Z"
    }
   },
   "outputs": [],
   "source": [
    "d = da.from_array(x, chunks=2)"
   ]
  },
  {
   "cell_type": "code",
   "execution_count": 24,
   "metadata": {
    "ExecuteTime": {
     "end_time": "2018-03-15T19:15:41.857606Z",
     "start_time": "2018-03-15T19:15:41.851498Z"
    }
   },
   "outputs": [
    {
     "data": {
      "text/plain": [
       "array([ 3,  7, 11])"
      ]
     },
     "execution_count": 24,
     "metadata": {},
     "output_type": "execute_result"
    }
   ],
   "source": [
    "da.coarsen(np.sum, d, {0: 2}).compute()"
   ]
  },
  {
   "cell_type": "code",
   "execution_count": 25,
   "metadata": {
    "ExecuteTime": {
     "end_time": "2018-03-15T19:15:50.833641Z",
     "start_time": "2018-03-15T19:15:50.826144Z"
    }
   },
   "outputs": [
    {
     "data": {
      "text/plain": [
       "array([2, 4, 6])"
      ]
     },
     "execution_count": 25,
     "metadata": {},
     "output_type": "execute_result"
    }
   ],
   "source": [
    "da.coarsen(np.max, d, {0: 2}).compute()"
   ]
  },
  {
   "cell_type": "code",
   "execution_count": 49,
   "metadata": {
    "ExecuteTime": {
     "end_time": "2018-03-15T19:19:21.108888Z",
     "start_time": "2018-03-15T19:19:21.105163Z"
    }
   },
   "outputs": [],
   "source": [
    "x = np.arange(24).reshape((4, 6))\n",
    "d = da.from_array(x, chunks=6)"
   ]
  },
  {
   "cell_type": "code",
   "execution_count": 50,
   "metadata": {
    "ExecuteTime": {
     "end_time": "2018-03-15T19:19:21.497814Z",
     "start_time": "2018-03-15T19:19:21.493573Z"
    }
   },
   "outputs": [
    {
     "data": {
      "text/plain": [
       "array([[ 0,  1,  2,  3,  4,  5],\n",
       "       [ 6,  7,  8,  9, 10, 11],\n",
       "       [12, 13, 14, 15, 16, 17],\n",
       "       [18, 19, 20, 21, 22, 23]])"
      ]
     },
     "execution_count": 50,
     "metadata": {},
     "output_type": "execute_result"
    }
   ],
   "source": [
    "x"
   ]
  },
  {
   "cell_type": "code",
   "execution_count": 52,
   "metadata": {
    "ExecuteTime": {
     "end_time": "2018-03-15T19:20:10.842858Z",
     "start_time": "2018-03-15T19:20:10.836945Z"
    }
   },
   "outputs": [
    {
     "data": {
      "text/plain": [
       "array([[ 0,  3],\n",
       "       [12, 15]])"
      ]
     },
     "execution_count": 52,
     "metadata": {},
     "output_type": "execute_result"
    }
   ],
   "source": [
    "da.coarsen(np.min, d, {0: 2, 1: 3}, trim_excess=True).compute() # you  must avoid excess elements explicitly"
   ]
  },
  {
   "cell_type": "markdown",
   "metadata": {},
   "source": [
    "`dask.array.stack(seq, axis=0)` stack arrays along a new axis.  Given a sequence of dask Arrays, form a new dask array by stacking them along a new dimension (axis=0 by default)"
   ]
  },
  {
   "cell_type": "code",
   "execution_count": 61,
   "metadata": {
    "ExecuteTime": {
     "end_time": "2018-03-15T19:22:32.256463Z",
     "start_time": "2018-03-15T19:22:32.252498Z"
    }
   },
   "outputs": [],
   "source": [
    "data = [da.from_array(np.ones((4, 4)), chunks=(2, 2))\n",
    "        for i in range(3)]"
   ]
  },
  {
   "cell_type": "code",
   "execution_count": 62,
   "metadata": {
    "ExecuteTime": {
     "end_time": "2018-03-15T19:22:32.582012Z",
     "start_time": "2018-03-15T19:22:32.579040Z"
    }
   },
   "outputs": [],
   "source": [
    "x = da.stack(data, axis=0)"
   ]
  },
  {
   "cell_type": "code",
   "execution_count": 63,
   "metadata": {
    "ExecuteTime": {
     "end_time": "2018-03-15T19:22:32.919431Z",
     "start_time": "2018-03-15T19:22:32.914606Z"
    }
   },
   "outputs": [
    {
     "data": {
      "text/plain": [
       "(3, 4, 4)"
      ]
     },
     "execution_count": 63,
     "metadata": {},
     "output_type": "execute_result"
    }
   ],
   "source": [
    "x.shape"
   ]
  },
  {
   "cell_type": "code",
   "execution_count": 64,
   "metadata": {
    "ExecuteTime": {
     "end_time": "2018-03-15T19:22:33.353301Z",
     "start_time": "2018-03-15T19:22:33.344723Z"
    }
   },
   "outputs": [
    {
     "data": {
      "text/plain": [
       "array([[[1., 1., 1., 1.],\n",
       "        [1., 1., 1., 1.],\n",
       "        [1., 1., 1., 1.],\n",
       "        [1., 1., 1., 1.]],\n",
       "\n",
       "       [[1., 1., 1., 1.],\n",
       "        [1., 1., 1., 1.],\n",
       "        [1., 1., 1., 1.],\n",
       "        [1., 1., 1., 1.]],\n",
       "\n",
       "       [[1., 1., 1., 1.],\n",
       "        [1., 1., 1., 1.],\n",
       "        [1., 1., 1., 1.],\n",
       "        [1., 1., 1., 1.]]])"
      ]
     },
     "execution_count": 64,
     "metadata": {},
     "output_type": "execute_result"
    }
   ],
   "source": [
    "x.compute()"
   ]
  },
  {
   "cell_type": "code",
   "execution_count": 65,
   "metadata": {
    "ExecuteTime": {
     "end_time": "2018-03-15T19:22:54.634285Z",
     "start_time": "2018-03-15T19:22:54.629734Z"
    }
   },
   "outputs": [
    {
     "data": {
      "text/plain": [
       "(4, 3, 4)"
      ]
     },
     "execution_count": 65,
     "metadata": {},
     "output_type": "execute_result"
    }
   ],
   "source": [
    "da.stack(data, axis=1).shape"
   ]
  },
  {
   "cell_type": "code",
   "execution_count": 66,
   "metadata": {
    "ExecuteTime": {
     "end_time": "2018-03-15T19:23:00.134966Z",
     "start_time": "2018-03-15T19:23:00.126628Z"
    }
   },
   "outputs": [
    {
     "data": {
      "text/plain": [
       "array([[[1., 1., 1., 1.],\n",
       "        [1., 1., 1., 1.],\n",
       "        [1., 1., 1., 1.]],\n",
       "\n",
       "       [[1., 1., 1., 1.],\n",
       "        [1., 1., 1., 1.],\n",
       "        [1., 1., 1., 1.]],\n",
       "\n",
       "       [[1., 1., 1., 1.],\n",
       "        [1., 1., 1., 1.],\n",
       "        [1., 1., 1., 1.]],\n",
       "\n",
       "       [[1., 1., 1., 1.],\n",
       "        [1., 1., 1., 1.],\n",
       "        [1., 1., 1., 1.]]])"
      ]
     },
     "execution_count": 66,
     "metadata": {},
     "output_type": "execute_result"
    }
   ],
   "source": [
    "da.stack(data, axis=1).compute()"
   ]
  },
  {
   "cell_type": "code",
   "execution_count": 67,
   "metadata": {
    "ExecuteTime": {
     "end_time": "2018-03-15T19:23:24.583612Z",
     "start_time": "2018-03-15T19:23:24.579229Z"
    }
   },
   "outputs": [
    {
     "data": {
      "text/plain": [
       "(4, 4, 3)"
      ]
     },
     "execution_count": 67,
     "metadata": {},
     "output_type": "execute_result"
    }
   ],
   "source": [
    "da.stack(data, axis=-1).shape"
   ]
  },
  {
   "cell_type": "code",
   "execution_count": 68,
   "metadata": {
    "ExecuteTime": {
     "end_time": "2018-03-15T19:23:28.204537Z",
     "start_time": "2018-03-15T19:23:28.195476Z"
    }
   },
   "outputs": [
    {
     "data": {
      "text/plain": [
       "array([[[1., 1., 1.],\n",
       "        [1., 1., 1.],\n",
       "        [1., 1., 1.],\n",
       "        [1., 1., 1.]],\n",
       "\n",
       "       [[1., 1., 1.],\n",
       "        [1., 1., 1.],\n",
       "        [1., 1., 1.],\n",
       "        [1., 1., 1.]],\n",
       "\n",
       "       [[1., 1., 1.],\n",
       "        [1., 1., 1.],\n",
       "        [1., 1., 1.],\n",
       "        [1., 1., 1.]],\n",
       "\n",
       "       [[1., 1., 1.],\n",
       "        [1., 1., 1.],\n",
       "        [1., 1., 1.],\n",
       "        [1., 1., 1.]]])"
      ]
     },
     "execution_count": 68,
     "metadata": {},
     "output_type": "execute_result"
    }
   ],
   "source": [
    "da.stack(data, axis=-1).compute()"
   ]
  },
  {
   "cell_type": "markdown",
   "metadata": {},
   "source": [
    "`dask.array.concatenate(seq, axis=0, allow_unknown_chunksizes=False)` concatenate arrays along an existing axis, given a sequence of dask arrays, form a new dask array by stacking them along an existing dimension (axis=0 by default)"
   ]
  },
  {
   "cell_type": "code",
   "execution_count": 69,
   "metadata": {
    "ExecuteTime": {
     "end_time": "2018-03-15T19:25:07.129455Z",
     "start_time": "2018-03-15T19:25:07.125524Z"
    }
   },
   "outputs": [],
   "source": [
    "data = [da.from_array(np.ones((4, 4)), chunks=(2, 2))\n",
    "        for i in range(3)]"
   ]
  },
  {
   "cell_type": "code",
   "execution_count": 73,
   "metadata": {
    "ExecuteTime": {
     "end_time": "2018-03-15T19:25:31.064316Z",
     "start_time": "2018-03-15T19:25:31.060087Z"
    }
   },
   "outputs": [
    {
     "data": {
      "text/plain": [
       "[dask.array<array, shape=(4, 4), dtype=float64, chunksize=(2, 2)>,\n",
       " dask.array<array, shape=(4, 4), dtype=float64, chunksize=(2, 2)>,\n",
       " dask.array<array, shape=(4, 4), dtype=float64, chunksize=(2, 2)>]"
      ]
     },
     "execution_count": 73,
     "metadata": {},
     "output_type": "execute_result"
    }
   ],
   "source": [
    "list(data)"
   ]
  },
  {
   "cell_type": "code",
   "execution_count": 74,
   "metadata": {
    "ExecuteTime": {
     "end_time": "2018-03-15T19:25:37.128547Z",
     "start_time": "2018-03-15T19:25:37.119523Z"
    }
   },
   "outputs": [],
   "source": [
    "x = da.concatenate(data, axis=0)"
   ]
  },
  {
   "cell_type": "code",
   "execution_count": 76,
   "metadata": {
    "ExecuteTime": {
     "end_time": "2018-03-15T19:25:45.975855Z",
     "start_time": "2018-03-15T19:25:45.968258Z"
    }
   },
   "outputs": [
    {
     "data": {
      "text/plain": [
       "(array([[1., 1., 1., 1.],\n",
       "        [1., 1., 1., 1.],\n",
       "        [1., 1., 1., 1.],\n",
       "        [1., 1., 1., 1.],\n",
       "        [1., 1., 1., 1.],\n",
       "        [1., 1., 1., 1.],\n",
       "        [1., 1., 1., 1.],\n",
       "        [1., 1., 1., 1.],\n",
       "        [1., 1., 1., 1.],\n",
       "        [1., 1., 1., 1.],\n",
       "        [1., 1., 1., 1.],\n",
       "        [1., 1., 1., 1.]]), (12, 4))"
      ]
     },
     "execution_count": 76,
     "metadata": {},
     "output_type": "execute_result"
    }
   ],
   "source": [
    "x.compute(), x.shape"
   ]
  },
  {
   "cell_type": "code",
   "execution_count": 77,
   "metadata": {
    "ExecuteTime": {
     "end_time": "2018-03-15T19:26:09.781605Z",
     "start_time": "2018-03-15T19:26:09.773100Z"
    }
   },
   "outputs": [
    {
     "data": {
      "text/plain": [
       "(array([[1., 1., 1., 1., 1., 1., 1., 1., 1., 1., 1., 1.],\n",
       "        [1., 1., 1., 1., 1., 1., 1., 1., 1., 1., 1., 1.],\n",
       "        [1., 1., 1., 1., 1., 1., 1., 1., 1., 1., 1., 1.],\n",
       "        [1., 1., 1., 1., 1., 1., 1., 1., 1., 1., 1., 1.]]), (4, 12))"
      ]
     },
     "execution_count": 77,
     "metadata": {},
     "output_type": "execute_result"
    }
   ],
   "source": [
    "da.concatenate(data, axis=1).compute(), da.concatenate(data, axis=1).shape"
   ]
  },
  {
   "cell_type": "markdown",
   "metadata": {},
   "source": [
    "`dask.array.all(a, axis=None, out=None, keepdims=False)` test whether all array elements along a given axis evalute to true"
   ]
  },
  {
   "cell_type": "markdown",
   "metadata": {},
   "source": [
    "`dask.array.apply_along_axis(func1d, axis, arr, *args, **kwargs)` Apply a function to 1-D slices along the given axis.  Execute func1d(a, *args) where func1d operates on 1-D arrays and a is a 1-D slice of arr along axis."
   ]
  },
  {
   "cell_type": "code",
   "execution_count": 79,
   "metadata": {
    "ExecuteTime": {
     "end_time": "2018-03-15T19:30:23.065892Z",
     "start_time": "2018-03-15T19:30:23.062156Z"
    }
   },
   "outputs": [],
   "source": [
    "my_func = lambda x: (x[0] + x[-1]) * 0.5\n",
    "b = np.array([[1,2,3], [4,5,6], [7,8,9]])"
   ]
  },
  {
   "cell_type": "code",
   "execution_count": 82,
   "metadata": {
    "ExecuteTime": {
     "end_time": "2018-03-15T19:31:10.027778Z",
     "start_time": "2018-03-15T19:31:10.023855Z"
    }
   },
   "outputs": [
    {
     "data": {
      "text/plain": [
       "array([[1, 2, 3],\n",
       "       [4, 5, 6],\n",
       "       [7, 8, 9]])"
      ]
     },
     "execution_count": 82,
     "metadata": {},
     "output_type": "execute_result"
    }
   ],
   "source": [
    "b"
   ]
  },
  {
   "cell_type": "code",
   "execution_count": 80,
   "metadata": {
    "ExecuteTime": {
     "end_time": "2018-03-15T19:30:30.801974Z",
     "start_time": "2018-03-15T19:30:30.796718Z"
    }
   },
   "outputs": [
    {
     "data": {
      "text/plain": [
       "array([4., 5., 6.])"
      ]
     },
     "execution_count": 80,
     "metadata": {},
     "output_type": "execute_result"
    }
   ],
   "source": [
    "np.apply_along_axis(my_func, 0, b) # cols"
   ]
  },
  {
   "cell_type": "code",
   "execution_count": 81,
   "metadata": {
    "ExecuteTime": {
     "end_time": "2018-03-15T19:30:39.694468Z",
     "start_time": "2018-03-15T19:30:39.689952Z"
    }
   },
   "outputs": [
    {
     "data": {
      "text/plain": [
       "array([2., 5., 8.])"
      ]
     },
     "execution_count": 81,
     "metadata": {},
     "output_type": "execute_result"
    }
   ],
   "source": [
    "np.apply_along_axis(my_func, 1, b) # rows"
   ]
  },
  {
   "cell_type": "code",
   "execution_count": 83,
   "metadata": {
    "ExecuteTime": {
     "end_time": "2018-03-15T19:32:38.384002Z",
     "start_time": "2018-03-15T19:32:38.378496Z"
    }
   },
   "outputs": [
    {
     "data": {
      "text/plain": [
       "array([[1, 7, 8],\n",
       "       [3, 4, 9],\n",
       "       [2, 5, 6]])"
      ]
     },
     "execution_count": 83,
     "metadata": {},
     "output_type": "execute_result"
    }
   ],
   "source": [
    "b = np.array([[8,1,7], [4,3,9], [5,2,6]])\n",
    "np.apply_along_axis(sorted, 1, b)"
   ]
  },
  {
   "cell_type": "markdown",
   "metadata": {
    "ExecuteTime": {
     "end_time": "2018-03-15T19:33:09.789174Z",
     "start_time": "2018-03-15T19:33:09.781622Z"
    }
   },
   "source": [
    "`dask.array.apply_over_axes(func, a, axes)` apply a function repeatedly over multiple axes.  func is called as res = func(a, axis), where axis is the first element of axes. The result res of the function call must have either the same dimensions as a or one less dimension. If res has one less dimension than a, a dimension is inserted before axis. The call to func is then repeated for each axis in axes, with res as the first argument."
   ]
  },
  {
   "cell_type": "code",
   "execution_count": 87,
   "metadata": {
    "ExecuteTime": {
     "end_time": "2018-03-15T19:35:03.672347Z",
     "start_time": "2018-03-15T19:35:03.667661Z"
    }
   },
   "outputs": [
    {
     "data": {
      "text/plain": [
       "array([[[ 0,  1,  2,  3],\n",
       "        [ 4,  5,  6,  7],\n",
       "        [ 8,  9, 10, 11]],\n",
       "\n",
       "       [[12, 13, 14, 15],\n",
       "        [16, 17, 18, 19],\n",
       "        [20, 21, 22, 23]]])"
      ]
     },
     "execution_count": 87,
     "metadata": {},
     "output_type": "execute_result"
    }
   ],
   "source": [
    "a = np.arange(24).reshape(2,3,4) # reshape into 2 (3,4) matrices\n",
    "a"
   ]
  },
  {
   "cell_type": "code",
   "execution_count": 88,
   "metadata": {
    "ExecuteTime": {
     "end_time": "2018-03-15T19:35:19.689141Z",
     "start_time": "2018-03-15T19:35:19.684923Z"
    }
   },
   "outputs": [
    {
     "data": {
      "text/plain": [
       "array([[[ 60],\n",
       "        [ 92],\n",
       "        [124]]])"
      ]
     },
     "execution_count": 88,
     "metadata": {},
     "output_type": "execute_result"
    }
   ],
   "source": [
    "np.apply_over_axes(np.sum, a, [0,2]) # Sum over axes 0 and 2. The result has same number of dimensions as the original array"
   ]
  },
  {
   "cell_type": "markdown",
   "metadata": {},
   "source": [
    "`dask.array.arange(*args, **kwargs)` return evenly spaced values from start to stop with step size step."
   ]
  },
  {
   "cell_type": "markdown",
   "metadata": {},
   "source": [
    "`dask.array.argmax(a, axis=None, out=None)` returns the indices of the maximum values along an axis; `argmin` is just the opposite"
   ]
  },
  {
   "cell_type": "code",
   "execution_count": 94,
   "metadata": {
    "ExecuteTime": {
     "end_time": "2018-03-15T19:39:37.163039Z",
     "start_time": "2018-03-15T19:39:37.158443Z"
    }
   },
   "outputs": [
    {
     "data": {
      "text/plain": [
       "array([[0, 1, 2],\n",
       "       [3, 4, 5]])"
      ]
     },
     "execution_count": 94,
     "metadata": {},
     "output_type": "execute_result"
    }
   ],
   "source": [
    "a = np.arange(6).reshape(2,3)\n",
    "a"
   ]
  },
  {
   "cell_type": "code",
   "execution_count": 90,
   "metadata": {
    "ExecuteTime": {
     "end_time": "2018-03-15T19:39:00.825562Z",
     "start_time": "2018-03-15T19:39:00.821567Z"
    }
   },
   "outputs": [
    {
     "data": {
      "text/plain": [
       "5"
      ]
     },
     "execution_count": 90,
     "metadata": {},
     "output_type": "execute_result"
    }
   ],
   "source": [
    "np.argmax(a)"
   ]
  },
  {
   "cell_type": "code",
   "execution_count": 97,
   "metadata": {
    "ExecuteTime": {
     "end_time": "2018-03-15T19:39:48.189783Z",
     "start_time": "2018-03-15T19:39:48.184477Z"
    }
   },
   "outputs": [
    {
     "data": {
      "text/plain": [
       "array([1, 1, 1])"
      ]
     },
     "execution_count": 97,
     "metadata": {},
     "output_type": "execute_result"
    }
   ],
   "source": [
    "np.argmax(a, axis=0) # indexes along cols"
   ]
  },
  {
   "cell_type": "code",
   "execution_count": 98,
   "metadata": {
    "ExecuteTime": {
     "end_time": "2018-03-15T19:40:03.214874Z",
     "start_time": "2018-03-15T19:40:03.209948Z"
    }
   },
   "outputs": [
    {
     "data": {
      "text/plain": [
       "array([2, 2])"
      ]
     },
     "execution_count": 98,
     "metadata": {},
     "output_type": "execute_result"
    }
   ],
   "source": [
    "np.argmax(a, axis=1) # indexes along rows"
   ]
  },
  {
   "cell_type": "markdown",
   "metadata": {},
   "source": [
    "`dask.array.around(a, decimals=0, out=None)` evenly round to the given number of decimals."
   ]
  },
  {
   "cell_type": "code",
   "execution_count": 99,
   "metadata": {
    "ExecuteTime": {
     "end_time": "2018-03-15T19:43:39.518976Z",
     "start_time": "2018-03-15T19:43:39.514889Z"
    }
   },
   "outputs": [
    {
     "data": {
      "text/plain": [
       "array([0., 2.])"
      ]
     },
     "execution_count": 99,
     "metadata": {},
     "output_type": "execute_result"
    }
   ],
   "source": [
    "np.around([0.37, 1.64])"
   ]
  },
  {
   "cell_type": "code",
   "execution_count": 100,
   "metadata": {
    "ExecuteTime": {
     "end_time": "2018-03-15T19:43:45.760110Z",
     "start_time": "2018-03-15T19:43:45.755600Z"
    }
   },
   "outputs": [
    {
     "data": {
      "text/plain": [
       "array([0.4, 1.6])"
      ]
     },
     "execution_count": 100,
     "metadata": {},
     "output_type": "execute_result"
    }
   ],
   "source": [
    "np.around([0.37, 1.64], decimals=1)"
   ]
  },
  {
   "cell_type": "code",
   "execution_count": 101,
   "metadata": {
    "ExecuteTime": {
     "end_time": "2018-03-15T19:43:51.443797Z",
     "start_time": "2018-03-15T19:43:51.439168Z"
    }
   },
   "outputs": [
    {
     "data": {
      "text/plain": [
       "array([0.37, 1.64])"
      ]
     },
     "execution_count": 101,
     "metadata": {},
     "output_type": "execute_result"
    }
   ],
   "source": [
    "np.around([0.37, 1.64], decimals=2)"
   ]
  },
  {
   "cell_type": "markdown",
   "metadata": {},
   "source": [
    "`dask.array.asarray(a)` cast input as a dask array"
   ]
  },
  {
   "cell_type": "code",
   "execution_count": 102,
   "metadata": {
    "ExecuteTime": {
     "end_time": "2018-03-15T19:45:40.087100Z",
     "start_time": "2018-03-15T19:45:40.082680Z"
    }
   },
   "outputs": [
    {
     "data": {
      "text/plain": [
       "dask.array<array, shape=(3,), dtype=int64, chunksize=(3,)>"
      ]
     },
     "execution_count": 102,
     "metadata": {},
     "output_type": "execute_result"
    }
   ],
   "source": [
    "x = np.arange(3)\n",
    "da.asarray(x)"
   ]
  },
  {
   "cell_type": "code",
   "execution_count": 103,
   "metadata": {
    "ExecuteTime": {
     "end_time": "2018-03-15T19:45:43.301049Z",
     "start_time": "2018-03-15T19:45:43.295857Z"
    }
   },
   "outputs": [
    {
     "data": {
      "text/plain": [
       "array([0, 1, 2])"
      ]
     },
     "execution_count": 103,
     "metadata": {},
     "output_type": "execute_result"
    }
   ],
   "source": [
    "da.asarray(x).compute()"
   ]
  },
  {
   "cell_type": "markdown",
   "metadata": {},
   "source": [
    "`dask.array.bincount(x, weights=None, minlength=None)` count the number of occurrences of each value in an array of non-negative integers.  The number of bins (of size 1) is one larger than the largest value in x. If minlength is specified, there will be at least this number of bins in the output array (though it will be longer if necessary, depending on the contents of x). Each bin gives the number of occurrences of its index value in x. If weights is specified the input array is weighted by it, i.e. if a value `n` is found at position `i`, `out[n] += weight[i]` instead of `out[n] += 1`."
   ]
  },
  {
   "cell_type": "code",
   "execution_count": 104,
   "metadata": {
    "ExecuteTime": {
     "end_time": "2018-03-15T19:48:09.360633Z",
     "start_time": "2018-03-15T19:48:09.356117Z"
    }
   },
   "outputs": [
    {
     "data": {
      "text/plain": [
       "array([1, 1, 1, 1, 1])"
      ]
     },
     "execution_count": 104,
     "metadata": {},
     "output_type": "execute_result"
    }
   ],
   "source": [
    "np.bincount(np.arange(5))"
   ]
  },
  {
   "cell_type": "code",
   "execution_count": 105,
   "metadata": {
    "ExecuteTime": {
     "end_time": "2018-03-15T19:48:19.697584Z",
     "start_time": "2018-03-15T19:48:19.692994Z"
    }
   },
   "outputs": [
    {
     "data": {
      "text/plain": [
       "array([1, 3, 1, 1, 0, 0, 0, 1])"
      ]
     },
     "execution_count": 105,
     "metadata": {},
     "output_type": "execute_result"
    }
   ],
   "source": [
    "np.bincount(np.array([0, 1, 1, 3, 2, 1, 7]))"
   ]
  },
  {
   "cell_type": "code",
   "execution_count": 106,
   "metadata": {
    "ExecuteTime": {
     "end_time": "2018-03-15T19:49:12.251989Z",
     "start_time": "2018-03-15T19:49:12.246505Z"
    }
   },
   "outputs": [
    {
     "data": {
      "text/plain": [
       "array([0.3, 0.7, 1.1])"
      ]
     },
     "execution_count": 106,
     "metadata": {},
     "output_type": "execute_result"
    }
   ],
   "source": [
    "w = np.array([0.3, 0.5, 0.2, 0.7, 1., -0.6]) # weights\n",
    "x = np.array([0, 1, 1, 2, 2, 2])\n",
    "np.bincount(x,  weights=w)"
   ]
  },
  {
   "cell_type": "markdown",
   "metadata": {},
   "source": [
    "`dask.array.broadcast_to(x, shape, chunks=None)` broadcast an array to a new shape  \n",
    "\n",
    "`dask.array.ceil(x[, out])` return the ceiling of the input, elementwise where the ceiling of a scalar x is the smallest integer `i`, such that `i >= x`"
   ]
  },
  {
   "cell_type": "code",
   "execution_count": 107,
   "metadata": {
    "ExecuteTime": {
     "end_time": "2018-03-15T19:52:19.295367Z",
     "start_time": "2018-03-15T19:52:19.290688Z"
    }
   },
   "outputs": [
    {
     "data": {
      "text/plain": [
       "array([-1., -1., -0.,  1.,  2.,  2.,  2.])"
      ]
     },
     "execution_count": 107,
     "metadata": {},
     "output_type": "execute_result"
    }
   ],
   "source": [
    "a = np.array([-1.7, -1.5, -0.2, 0.2, 1.5, 1.7, 2.0])  \n",
    "np.ceil(a)"
   ]
  },
  {
   "cell_type": "code",
   "execution_count": 108,
   "metadata": {
    "ExecuteTime": {
     "end_time": "2018-03-15T19:52:28.745226Z",
     "start_time": "2018-03-15T19:52:28.740396Z"
    }
   },
   "outputs": [
    {
     "data": {
      "text/plain": [
       "array([-2., -2., -1.,  0.,  1.,  1.,  2.])"
      ]
     },
     "execution_count": 108,
     "metadata": {},
     "output_type": "execute_result"
    }
   ],
   "source": [
    "np.floor(a)"
   ]
  },
  {
   "cell_type": "markdown",
   "metadata": {},
   "source": [
    "`dask.array.clip(*args, **kwargs)` (clip) limit the values in an array, given an interval, values outside the interval are clipped to the interval edges.  [0, 1]"
   ]
  },
  {
   "cell_type": "code",
   "execution_count": 110,
   "metadata": {
    "ExecuteTime": {
     "end_time": "2018-03-15T19:54:16.958934Z",
     "start_time": "2018-03-15T19:54:16.954043Z"
    }
   },
   "outputs": [
    {
     "data": {
      "text/plain": [
       "array([1, 1, 2, 3, 4, 5, 6, 7, 8, 8])"
      ]
     },
     "execution_count": 110,
     "metadata": {},
     "output_type": "execute_result"
    }
   ],
   "source": [
    "a = np.arange(10)\n",
    "np.clip(a, 1, 8)"
   ]
  },
  {
   "cell_type": "markdown",
   "metadata": {},
   "source": [
    "`dask.array.concatenate(seq, axis=0, allow_unknown_chunksizes=False)` concatenate arrays along an existing axis, given a sequence of dask arrays, form a new dask array by stacking them along an existing dimension (axis=0 default)"
   ]
  },
  {
   "cell_type": "code",
   "execution_count": 118,
   "metadata": {
    "ExecuteTime": {
     "end_time": "2018-03-15T19:58:00.736582Z",
     "start_time": "2018-03-15T19:58:00.731081Z"
    }
   },
   "outputs": [
    {
     "data": {
      "text/plain": [
       "[dask.array<array, shape=(4, 4), dtype=float64, chunksize=(2, 2)>,\n",
       " dask.array<array, shape=(4, 4), dtype=float64, chunksize=(2, 2)>,\n",
       " dask.array<array, shape=(4, 4), dtype=float64, chunksize=(2, 2)>]"
      ]
     },
     "execution_count": 118,
     "metadata": {},
     "output_type": "execute_result"
    }
   ],
   "source": [
    "data = [da.from_array(np.ones((4, 4)), chunks=(2, 2)) for i in range(3)]\n",
    "data"
   ]
  },
  {
   "cell_type": "code",
   "execution_count": 116,
   "metadata": {
    "ExecuteTime": {
     "end_time": "2018-03-15T19:57:41.044508Z",
     "start_time": "2018-03-15T19:57:41.039889Z"
    }
   },
   "outputs": [
    {
     "data": {
      "text/plain": [
       "dask.array<concatenate, shape=(12, 4), dtype=float64, chunksize=(2, 2)>"
      ]
     },
     "execution_count": 116,
     "metadata": {},
     "output_type": "execute_result"
    }
   ],
   "source": [
    "x = da.concatenate(data, axis=0)\n",
    "x"
   ]
  },
  {
   "cell_type": "code",
   "execution_count": 117,
   "metadata": {
    "ExecuteTime": {
     "end_time": "2018-03-15T19:57:46.642711Z",
     "start_time": "2018-03-15T19:57:46.634645Z"
    }
   },
   "outputs": [
    {
     "data": {
      "text/plain": [
       "array([[1., 1., 1., 1.],\n",
       "       [1., 1., 1., 1.],\n",
       "       [1., 1., 1., 1.],\n",
       "       [1., 1., 1., 1.],\n",
       "       [1., 1., 1., 1.],\n",
       "       [1., 1., 1., 1.],\n",
       "       [1., 1., 1., 1.],\n",
       "       [1., 1., 1., 1.],\n",
       "       [1., 1., 1., 1.],\n",
       "       [1., 1., 1., 1.],\n",
       "       [1., 1., 1., 1.],\n",
       "       [1., 1., 1., 1.]])"
      ]
     },
     "execution_count": 117,
     "metadata": {},
     "output_type": "execute_result"
    }
   ],
   "source": [
    "x.compute()"
   ]
  },
  {
   "cell_type": "markdown",
   "metadata": {},
   "source": [
    "`dask.array.cos(x[, out]` cosine element-wise"
   ]
  },
  {
   "cell_type": "markdown",
   "metadata": {},
   "source": [
    "`dask.array.count_nonzero(a)` counts the number of non-zero values in the array"
   ]
  },
  {
   "cell_type": "code",
   "execution_count": 120,
   "metadata": {
    "ExecuteTime": {
     "end_time": "2018-03-15T20:01:47.968226Z",
     "start_time": "2018-03-15T20:01:47.964087Z"
    }
   },
   "outputs": [
    {
     "data": {
      "text/plain": [
       "array([[1., 0., 0., 0.],\n",
       "       [0., 1., 0., 0.],\n",
       "       [0., 0., 1., 0.],\n",
       "       [0., 0., 0., 1.]])"
      ]
     },
     "execution_count": 120,
     "metadata": {},
     "output_type": "execute_result"
    }
   ],
   "source": [
    "np.eye(4)"
   ]
  },
  {
   "cell_type": "code",
   "execution_count": 121,
   "metadata": {
    "ExecuteTime": {
     "end_time": "2018-03-15T20:01:48.674650Z",
     "start_time": "2018-03-15T20:01:48.670751Z"
    }
   },
   "outputs": [
    {
     "data": {
      "text/plain": [
       "4"
      ]
     },
     "execution_count": 121,
     "metadata": {},
     "output_type": "execute_result"
    }
   ],
   "source": [
    "np.count_nonzero(np.eye(4))"
   ]
  },
  {
   "cell_type": "markdown",
   "metadata": {},
   "source": [
    "`dask.array.cov(m, y=None, rowvar=True, bias=False, ddof=None, fweights=None, aweights=None)` estimate a covariance matrix, given data and weights."
   ]
  },
  {
   "cell_type": "markdown",
   "metadata": {},
   "source": [
    "`dask.array.cumprod(a, axis=None, dtype=None, out=None)` return the cumulative product of elements along a given axis.\n",
    "`cumsum()` is similarly the sum"
   ]
  },
  {
   "cell_type": "code",
   "execution_count": 124,
   "metadata": {
    "ExecuteTime": {
     "end_time": "2018-03-15T20:04:41.631141Z",
     "start_time": "2018-03-15T20:04:41.626125Z"
    }
   },
   "outputs": [
    {
     "data": {
      "text/plain": [
       "array([  1,   2,   6,  24, 120])"
      ]
     },
     "execution_count": 124,
     "metadata": {},
     "output_type": "execute_result"
    }
   ],
   "source": [
    "a = np.array([1,2,3,4,5]) # aka factorial if in order\n",
    "np.cumprod(a)"
   ]
  },
  {
   "cell_type": "code",
   "execution_count": 125,
   "metadata": {
    "ExecuteTime": {
     "end_time": "2018-03-15T20:05:05.676716Z",
     "start_time": "2018-03-15T20:05:05.671641Z"
    }
   },
   "outputs": [
    {
     "data": {
      "text/plain": [
       "array([[ 1,  2,  3],\n",
       "       [ 4, 10, 18]])"
      ]
     },
     "execution_count": 125,
     "metadata": {},
     "output_type": "execute_result"
    }
   ],
   "source": [
    "a = np.array([[1, 2, 3], [4, 5, 6]])\n",
    "np.cumprod(a, axis=0)"
   ]
  },
  {
   "cell_type": "code",
   "execution_count": 126,
   "metadata": {
    "ExecuteTime": {
     "end_time": "2018-03-15T20:05:08.679825Z",
     "start_time": "2018-03-15T20:05:08.675451Z"
    }
   },
   "outputs": [
    {
     "data": {
      "text/plain": [
       "array([[  1,   2,   6],\n",
       "       [  4,  20, 120]])"
      ]
     },
     "execution_count": 126,
     "metadata": {},
     "output_type": "execute_result"
    }
   ],
   "source": [
    "np.cumprod(a, axis=1)"
   ]
  },
  {
   "cell_type": "markdown",
   "metadata": {},
   "source": [
    "`dask.array.deg2rad(x[, out])` convert angles from degrees to radians  \n",
    "`dask.array.rad2deg(x[, out])` convert angles from radians to degrees  \n",
    "`dask.array.degrees(x[, out])` same as above"
   ]
  },
  {
   "cell_type": "code",
   "execution_count": 127,
   "metadata": {
    "ExecuteTime": {
     "end_time": "2018-03-15T20:08:30.248636Z",
     "start_time": "2018-03-15T20:08:30.243918Z"
    }
   },
   "outputs": [
    {
     "data": {
      "text/plain": [
       "array([  0.,  30.,  60.,  90., 120., 150., 180., 210., 240., 270., 300.,\n",
       "       330.])"
      ]
     },
     "execution_count": 127,
     "metadata": {},
     "output_type": "execute_result"
    }
   ],
   "source": [
    "rad = np.arange(12.)*np.pi/6\n",
    "np.degrees(rad)"
   ]
  },
  {
   "cell_type": "markdown",
   "metadata": {},
   "source": [
    "`dask.array.diff(a, n=1, axis=-1)` calculate the n-th discrete difference along given axis.  The first difference is given by `out[n] = a[n + 1] - a[n]` along a given axis. `n` is the number of times values are differenced"
   ]
  },
  {
   "cell_type": "code",
   "execution_count": 128,
   "metadata": {
    "ExecuteTime": {
     "end_time": "2018-03-15T20:09:58.832204Z",
     "start_time": "2018-03-15T20:09:58.827641Z"
    }
   },
   "outputs": [
    {
     "data": {
      "text/plain": [
       "array([ 1,  2,  3, -7])"
      ]
     },
     "execution_count": 128,
     "metadata": {},
     "output_type": "execute_result"
    }
   ],
   "source": [
    "x = np.array([1, 2, 4, 7, 0])\n",
    "np.diff(x)"
   ]
  },
  {
   "cell_type": "code",
   "execution_count": 129,
   "metadata": {
    "ExecuteTime": {
     "end_time": "2018-03-15T20:10:19.623624Z",
     "start_time": "2018-03-15T20:10:19.620016Z"
    }
   },
   "outputs": [
    {
     "data": {
      "text/plain": [
       "array([  1,   1, -10])"
      ]
     },
     "execution_count": 129,
     "metadata": {},
     "output_type": "execute_result"
    }
   ],
   "source": [
    "np.diff(x, n=2)"
   ]
  },
  {
   "cell_type": "code",
   "execution_count": 130,
   "metadata": {
    "ExecuteTime": {
     "end_time": "2018-03-15T20:11:00.129599Z",
     "start_time": "2018-03-15T20:11:00.123878Z"
    }
   },
   "outputs": [
    {
     "data": {
      "text/plain": [
       "array([[2, 3, 4],\n",
       "       [5, 1, 2]])"
      ]
     },
     "execution_count": 130,
     "metadata": {},
     "output_type": "execute_result"
    }
   ],
   "source": [
    "x = np.array([[1, 3, 6, 10], [0, 5, 6, 8]])\n",
    "np.diff(x)"
   ]
  },
  {
   "cell_type": "markdown",
   "metadata": {},
   "source": [
    "`dask.array.digitize(x, bins, right=False)` return the indices of the bins to which each value in input array belongs"
   ]
  },
  {
   "cell_type": "code",
   "execution_count": 137,
   "metadata": {
    "ExecuteTime": {
     "end_time": "2018-03-15T20:13:49.321287Z",
     "start_time": "2018-03-15T20:13:49.317037Z"
    }
   },
   "outputs": [],
   "source": [
    "x = np.array([0.2, 6.4, 3.0, 1.6, 20])\n",
    "bins = np.array([0.0, 1.0, 2.5, 4.0, 10.0])\n",
    "inds = np.digitize(x, bins)"
   ]
  },
  {
   "cell_type": "code",
   "execution_count": 138,
   "metadata": {
    "ExecuteTime": {
     "end_time": "2018-03-15T20:13:50.129704Z",
     "start_time": "2018-03-15T20:13:50.125239Z"
    }
   },
   "outputs": [
    {
     "data": {
      "text/plain": [
       "array([1, 4, 3, 2, 5])"
      ]
     },
     "execution_count": 138,
     "metadata": {},
     "output_type": "execute_result"
    }
   ],
   "source": [
    "inds"
   ]
  },
  {
   "cell_type": "markdown",
   "metadata": {},
   "source": [
    "`dask.array.dot(a, b, out=None)` dot product of two arrays.  For 2-D arrays it is equivalent to matrix multiplication, for 1-D arrays it is equivalent to inner product of vectors.  For N dimensions, it is a sum product over the last axist of a and the second to last of b. `dot(a, b)[i,j,k,m] = sum(a[i,j,:] * b[k,:,m])`"
   ]
  },
  {
   "cell_type": "markdown",
   "metadata": {},
   "source": [
    "`dask.array.exp(x[, out])` calculate the exponential of all elements in the input array"
   ]
  },
  {
   "cell_type": "code",
   "execution_count": 139,
   "metadata": {
    "ExecuteTime": {
     "end_time": "2018-03-15T20:19:34.639394Z",
     "start_time": "2018-03-15T20:19:34.252830Z"
    }
   },
   "outputs": [],
   "source": [
    "import matplotlib.pyplot as plt  \n",
    "%matplotlib inline"
   ]
  },
  {
   "cell_type": "code",
   "execution_count": 140,
   "metadata": {
    "ExecuteTime": {
     "end_time": "2018-03-15T20:20:19.458380Z",
     "start_time": "2018-03-15T20:20:19.446835Z"
    }
   },
   "outputs": [],
   "source": [
    "x = np.linspace(-2*np.pi, 2*np.pi, 100)  \n",
    "xx = x + 1j * x[:, np.newaxis] # a + ib over complex plane  \n",
    "out = np.exp(xx)  "
   ]
  },
  {
   "cell_type": "code",
   "execution_count": 142,
   "metadata": {
    "ExecuteTime": {
     "end_time": "2018-03-15T20:20:28.894779Z",
     "start_time": "2018-03-15T20:20:28.789071Z"
    }
   },
   "outputs": [
    {
     "data": {
      "image/png": "[encoded data removed]",
      "text/plain": [
       "<Figure size 432x288 with 1 Axes>"
      ]
     },
     "metadata": {},
     "output_type": "display_data"
    }
   ],
   "source": [
    "plt.subplot(121)  \n",
    "plt.imshow(np.abs(out),extent=[-2*np.pi, 2*np.pi, -2*np.pi, 2*np.pi])\n",
    "plt.title('Magnitude of exp(x)');"
   ]
  },
  {
   "cell_type": "code",
   "execution_count": 144,
   "metadata": {
    "ExecuteTime": {
     "end_time": "2018-03-15T20:21:00.694047Z",
     "start_time": "2018-03-15T20:21:00.587928Z"
    }
   },
   "outputs": [
    {
     "data": {
      "image/png": "[encoded data removed]",
      "text/plain": [
       "<Figure size 432x288 with 1 Axes>"
      ]
     },
     "metadata": {},
     "output_type": "display_data"
    }
   ],
   "source": [
    "plt.subplot(122)  \n",
    "plt.imshow(np.angle(out), extent=[-2*np.pi, 2*np.pi, -2*np.pi, 2*np.pi])\n",
    "plt.title('Phase (angle) of exp(x)');"
   ]
  },
  {
   "cell_type": "markdown",
   "metadata": {},
   "source": [
    "`dask.array.expm1(x[, out])` calculate `exp(x) - 1` for all elements in the array.  \n",
    "`dask.array.log1p(x[, out])` calculate `log(1 + x)` for all elements in the array (inverse expm1)"
   ]
  },
  {
   "cell_type": "markdown",
   "metadata": {},
   "source": [
    "`dask.array.eye(N, chunks, M=None, k=0, dtype=<class 'float'>)` return 2-D array identity matrix"
   ]
  },
  {
   "cell_type": "markdown",
   "metadata": {},
   "source": [
    "`dask.array.fabs(x[, out])` compute the absolute values element-wise.  function returns the absolute values (positive magnitude) of the data in x. Complex values are not handled, use absolute to find the absolute values of complex data."
   ]
  },
  {
   "cell_type": "code",
   "execution_count": 145,
   "metadata": {
    "ExecuteTime": {
     "end_time": "2018-03-15T20:24:03.570510Z",
     "start_time": "2018-03-15T20:24:03.565868Z"
    }
   },
   "outputs": [
    {
     "data": {
      "text/plain": [
       "array([1.2, 1.2])"
      ]
     },
     "execution_count": 145,
     "metadata": {},
     "output_type": "execute_result"
    }
   ],
   "source": [
    "np.fabs([-1.2, 1.2])"
   ]
  },
  {
   "cell_type": "code",
   "execution_count": 146,
   "metadata": {
    "ExecuteTime": {
     "end_time": "2018-03-15T20:24:10.553344Z",
     "start_time": "2018-03-15T20:24:10.549156Z"
    }
   },
   "outputs": [
    {
     "data": {
      "text/plain": [
       "array([1.2, 1.2, 3. ])"
      ]
     },
     "execution_count": 146,
     "metadata": {},
     "output_type": "execute_result"
    }
   ],
   "source": [
    "np.fabs([-1.2, 1.2, -3])"
   ]
  },
  {
   "cell_type": "markdown",
   "metadata": {},
   "source": [
    "`dask.array.fix(*args, **kwargs)` round to nearest integer towards zero (ceil) "
   ]
  },
  {
   "cell_type": "code",
   "execution_count": 147,
   "metadata": {
    "ExecuteTime": {
     "end_time": "2018-03-15T20:25:07.163821Z",
     "start_time": "2018-03-15T20:25:07.159289Z"
    }
   },
   "outputs": [
    {
     "data": {
      "text/plain": [
       "array([ 2.,  2., -2., -2.])"
      ]
     },
     "execution_count": 147,
     "metadata": {},
     "output_type": "execute_result"
    }
   ],
   "source": [
    "np.fix([2.1, 2.9, -2.1, -2.9])"
   ]
  },
  {
   "cell_type": "code",
   "execution_count": 149,
   "metadata": {
    "ExecuteTime": {
     "end_time": "2018-03-15T20:26:12.791839Z",
     "start_time": "2018-03-15T20:26:12.787067Z"
    }
   },
   "outputs": [
    {
     "data": {
      "text/plain": [
       "array([[1., 0., 0.],\n",
       "       [0., 2., 0.],\n",
       "       [0., 0., 3.]])"
      ]
     },
     "execution_count": 149,
     "metadata": {},
     "output_type": "execute_result"
    }
   ],
   "source": [
    "A = np.diag([1.,2.,3.])\n",
    "A"
   ]
  },
  {
   "cell_type": "code",
   "execution_count": 150,
   "metadata": {
    "ExecuteTime": {
     "end_time": "2018-03-15T20:26:23.656852Z",
     "start_time": "2018-03-15T20:26:23.646608Z"
    }
   },
   "outputs": [
    {
     "data": {
      "text/plain": [
       "array([[0., 0., 3.],\n",
       "       [0., 2., 0.],\n",
       "       [1., 0., 0.]])"
      ]
     },
     "execution_count": 150,
     "metadata": {},
     "output_type": "execute_result"
    }
   ],
   "source": [
    "np.rot90(A)"
   ]
  },
  {
   "cell_type": "code",
   "execution_count": 152,
   "metadata": {
    "ExecuteTime": {
     "end_time": "2018-03-15T20:26:44.819189Z",
     "start_time": "2018-03-15T20:26:44.814268Z"
    }
   },
   "outputs": [
    {
     "data": {
      "text/plain": [
       "array([[3., 0., 0.],\n",
       "       [0., 2., 0.],\n",
       "       [0., 0., 1.]])"
      ]
     },
     "execution_count": 152,
     "metadata": {},
     "output_type": "execute_result"
    }
   ],
   "source": [
    "np.rot90(np.rot90(A))"
   ]
  },
  {
   "cell_type": "markdown",
   "metadata": {},
   "source": [
    "`dask.array.fmax(x1, x2[, out])` elementwise maximum (`fmin` for minimum); returning the max value comparing 2 arrays"
   ]
  },
  {
   "cell_type": "code",
   "execution_count": 153,
   "metadata": {
    "ExecuteTime": {
     "end_time": "2018-03-15T20:28:29.018128Z",
     "start_time": "2018-03-15T20:28:29.012820Z"
    }
   },
   "outputs": [
    {
     "data": {
      "text/plain": [
       "array([2, 5, 4])"
      ]
     },
     "execution_count": 153,
     "metadata": {},
     "output_type": "execute_result"
    }
   ],
   "source": [
    "np.fmax([2, 3, 4], [1, 5, 2])  "
   ]
  },
  {
   "cell_type": "code",
   "execution_count": 154,
   "metadata": {
    "ExecuteTime": {
     "end_time": "2018-03-15T20:28:33.126588Z",
     "start_time": "2018-03-15T20:28:33.121471Z"
    }
   },
   "outputs": [
    {
     "data": {
      "text/plain": [
       "array([1, 3, 2])"
      ]
     },
     "execution_count": 154,
     "metadata": {},
     "output_type": "execute_result"
    }
   ],
   "source": [
    "np.fmin([2, 3, 4], [1, 5, 2])  "
   ]
  },
  {
   "cell_type": "markdown",
   "metadata": {},
   "source": [
    "`dask.array.fmod(x1, x2[, out])` return the element-wise remainder of division."
   ]
  },
  {
   "cell_type": "code",
   "execution_count": 157,
   "metadata": {
    "ExecuteTime": {
     "end_time": "2018-03-15T20:29:36.404142Z",
     "start_time": "2018-03-15T20:29:36.398871Z"
    }
   },
   "outputs": [
    {
     "data": {
      "text/plain": [
       "array([-1,  0, -1,  1,  0,  1])"
      ]
     },
     "execution_count": 157,
     "metadata": {},
     "output_type": "execute_result"
    }
   ],
   "source": [
    "np.fmod([-3, -2, -1, 1, 2, 3], 2)"
   ]
  },
  {
   "cell_type": "code",
   "execution_count": 158,
   "metadata": {
    "ExecuteTime": {
     "end_time": "2018-03-15T20:29:47.985919Z",
     "start_time": "2018-03-15T20:29:47.980672Z"
    }
   },
   "outputs": [
    {
     "data": {
      "text/plain": [
       "array([1., 1.])"
      ]
     },
     "execution_count": 158,
     "metadata": {},
     "output_type": "execute_result"
    }
   ],
   "source": [
    "np.fmod([5, 3], [2, 2.])  "
   ]
  },
  {
   "cell_type": "markdown",
   "metadata": {},
   "source": [
    "`dask.array.fromfunction(function, shape, **kwargs)` construct an array by executing a function over each coordinate. Where the resulting array has a value `fn(x, y, z)` at coordinate `(x, y, z)`"
   ]
  },
  {
   "cell_type": "code",
   "execution_count": 159,
   "metadata": {
    "ExecuteTime": {
     "end_time": "2018-03-15T20:31:06.766227Z",
     "start_time": "2018-03-15T20:31:06.761846Z"
    }
   },
   "outputs": [
    {
     "data": {
      "text/plain": [
       "array([[0, 1, 2],\n",
       "       [1, 2, 3],\n",
       "       [2, 3, 4]])"
      ]
     },
     "execution_count": 159,
     "metadata": {},
     "output_type": "execute_result"
    }
   ],
   "source": [
    "np.fromfunction(lambda i, j: i + j, (3, 3), dtype=int)"
   ]
  },
  {
   "cell_type": "code",
   "execution_count": 160,
   "metadata": {
    "ExecuteTime": {
     "end_time": "2018-03-15T20:31:21.882740Z",
     "start_time": "2018-03-15T20:31:21.877880Z"
    }
   },
   "outputs": [
    {
     "data": {
      "text/plain": [
       "array([[0, 1, 2, 3],\n",
       "       [1, 2, 3, 4],\n",
       "       [2, 3, 4, 5]])"
      ]
     },
     "execution_count": 160,
     "metadata": {},
     "output_type": "execute_result"
    }
   ],
   "source": [
    "np.fromfunction(lambda i, j: i + j, (3, 4), dtype=int)"
   ]
  },
  {
   "cell_type": "markdown",
   "metadata": {},
   "source": [
    "`dask.array.frompyfunc(func, nin, nout)` takes an arbitrary Python function and returns a Numpy ufunc."
   ]
  },
  {
   "cell_type": "code",
   "execution_count": 162,
   "metadata": {
    "ExecuteTime": {
     "end_time": "2018-03-15T20:32:31.165551Z",
     "start_time": "2018-03-15T20:32:31.160634Z"
    }
   },
   "outputs": [
    {
     "data": {
      "text/plain": [
       "<ufunc '? (vectorized)'>"
      ]
     },
     "execution_count": 162,
     "metadata": {},
     "output_type": "execute_result"
    }
   ],
   "source": [
    "oct_array = np.frompyfunc(oct, 1, 1)\n",
    "oct_array"
   ]
  },
  {
   "cell_type": "code",
   "execution_count": 163,
   "metadata": {
    "ExecuteTime": {
     "end_time": "2018-03-15T20:32:37.817663Z",
     "start_time": "2018-03-15T20:32:37.812783Z"
    }
   },
   "outputs": [
    {
     "data": {
      "text/plain": [
       "array(['0o12', '0o36', '0o144'], dtype=object)"
      ]
     },
     "execution_count": 163,
     "metadata": {},
     "output_type": "execute_result"
    }
   ],
   "source": [
    "oct_array(np.array((10, 30, 100)))"
   ]
  },
  {
   "cell_type": "markdown",
   "metadata": {},
   "source": [
    "`dask.array.histogram(a, bins=None, range=None, normed=False, weights=None, density=None)` follows the signature of numpy.histogram()"
   ]
  },
  {
   "cell_type": "code",
   "execution_count": 164,
   "metadata": {
    "ExecuteTime": {
     "end_time": "2018-03-15T20:33:57.718986Z",
     "start_time": "2018-03-15T20:33:57.694655Z"
    }
   },
   "outputs": [],
   "source": [
    "x = da.from_array(np.arange(10000), chunks=10)\n",
    "h, bins = da.histogram(x, bins=10, range=[0, 10000])"
   ]
  },
  {
   "cell_type": "code",
   "execution_count": 166,
   "metadata": {
    "ExecuteTime": {
     "end_time": "2018-03-15T20:34:04.096482Z",
     "start_time": "2018-03-15T20:34:04.092430Z"
    }
   },
   "outputs": [
    {
     "data": {
      "text/plain": [
       "array([    0.,  1000.,  2000.,  3000.,  4000.,  5000.,  6000.,  7000.,\n",
       "        8000.,  9000., 10000.])"
      ]
     },
     "execution_count": 166,
     "metadata": {},
     "output_type": "execute_result"
    }
   ],
   "source": [
    "bins"
   ]
  },
  {
   "cell_type": "code",
   "execution_count": 167,
   "metadata": {
    "ExecuteTime": {
     "end_time": "2018-03-15T20:34:08.950194Z",
     "start_time": "2018-03-15T20:34:08.259848Z"
    }
   },
   "outputs": [
    {
     "data": {
      "text/plain": [
       "array([1000, 1000, 1000, 1000, 1000, 1000, 1000, 1000, 1000, 1000])"
      ]
     },
     "execution_count": 167,
     "metadata": {},
     "output_type": "execute_result"
    }
   ],
   "source": [
    "h.compute()"
   ]
  },
  {
   "cell_type": "markdown",
   "metadata": {},
   "source": [
    "`dask.array.hypot(x1, x2[, out]` given the “legs” of a right triangle, return its hypotenuse.  Eqiv to `sqrt(x1**2 + x2**2)`"
   ]
  },
  {
   "cell_type": "code",
   "execution_count": 169,
   "metadata": {
    "ExecuteTime": {
     "end_time": "2018-03-15T20:35:38.297698Z",
     "start_time": "2018-03-15T20:35:38.293291Z"
    }
   },
   "outputs": [
    {
     "data": {
      "text/plain": [
       "5.0"
      ]
     },
     "execution_count": 169,
     "metadata": {},
     "output_type": "execute_result"
    }
   ],
   "source": [
    "np.hypot(3, 4)"
   ]
  },
  {
   "cell_type": "markdown",
   "metadata": {},
   "source": [
    "`dask.array.indices(dimensions, dtype=<class 'int'>, chunks=None)` implements NumPy’s indices for Dask Array which generates a grid of indices covering the dimensions provided.  \n",
    "`dask.array.insert(arr, obj, values, axis=None)` insert values along the given axis before the given indices."
   ]
  },
  {
   "cell_type": "code",
   "execution_count": 170,
   "metadata": {
    "ExecuteTime": {
     "end_time": "2018-03-15T20:37:17.133772Z",
     "start_time": "2018-03-15T20:37:17.128929Z"
    }
   },
   "outputs": [
    {
     "data": {
      "text/plain": [
       "array([[1, 1],\n",
       "       [2, 2],\n",
       "       [3, 3]])"
      ]
     },
     "execution_count": 170,
     "metadata": {},
     "output_type": "execute_result"
    }
   ],
   "source": [
    "a = np.array([[1, 1], [2, 2], [3, 3]])\n",
    "a"
   ]
  },
  {
   "cell_type": "code",
   "execution_count": 171,
   "metadata": {
    "ExecuteTime": {
     "end_time": "2018-03-15T20:37:25.232032Z",
     "start_time": "2018-03-15T20:37:25.227689Z"
    }
   },
   "outputs": [
    {
     "data": {
      "text/plain": [
       "array([1, 5, 1, 2, 2, 3, 3])"
      ]
     },
     "execution_count": 171,
     "metadata": {},
     "output_type": "execute_result"
    }
   ],
   "source": [
    "np.insert(a, 1, 5)"
   ]
  },
  {
   "cell_type": "code",
   "execution_count": 172,
   "metadata": {
    "ExecuteTime": {
     "end_time": "2018-03-15T20:37:59.252380Z",
     "start_time": "2018-03-15T20:37:59.247422Z"
    }
   },
   "outputs": [
    {
     "data": {
      "text/plain": [
       "array([[1, 5, 1],\n",
       "       [2, 5, 2],\n",
       "       [3, 5, 3]])"
      ]
     },
     "execution_count": 172,
     "metadata": {},
     "output_type": "execute_result"
    }
   ],
   "source": [
    "np.insert(a, 1, 5, axis=1)"
   ]
  },
  {
   "cell_type": "markdown",
   "metadata": {},
   "source": [
    "`dask.array.isnull(values)` pandas type isnull for dask arrays"
   ]
  },
  {
   "cell_type": "markdown",
   "metadata": {},
   "source": [
    "`dask.array.linspace(start, stop, num=50, chunks=None, dtype=None)` return num evenly spaced values over the closed interval [start, stop]."
   ]
  },
  {
   "cell_type": "markdown",
   "metadata": {},
   "source": [
    "`dask.array.log(x[, out])` natural logarithm, element-wise.  The natural logarithm log is the inverse of the exponential function, so that `log(exp(x)) = x`. The natural logarithm is logarithm in base `e`.\n",
    "\n",
    "Logarithm is a multivalued function: for each x there is an infinite number of z such that `exp(z) = x`. The convention is to return the z whose imaginary part lies in `[-pi, pi]`.  \n",
    "\n",
    "`dask.array.log10(x[, out])`  \n",
    "`dask.array.log1p(x[, out])` calculates `log(1 + x)`"
   ]
  },
  {
   "cell_type": "markdown",
   "metadata": {},
   "source": [
    "`dask.array.logaddexp(x1, x2[, out])` logarithm of the sum of exponentiations of the inputs.  Calculates `log(exp(x1) + exp(x2))`. This function is useful in statistics where the calculated probabilities of events may be so small as to exceed the range of normal floating point numbers. In such cases the logarithm of the calculated probability is stored. "
   ]
  },
  {
   "cell_type": "markdown",
   "metadata": {},
   "source": [
    "`dask.array.logical_and(x1, x2[, out])`"
   ]
  },
  {
   "cell_type": "code",
   "execution_count": 173,
   "metadata": {
    "ExecuteTime": {
     "end_time": "2018-03-15T20:45:01.593019Z",
     "start_time": "2018-03-15T20:45:01.588163Z"
    }
   },
   "outputs": [
    {
     "data": {
      "text/plain": [
       "array([False, False,  True,  True, False])"
      ]
     },
     "execution_count": 173,
     "metadata": {},
     "output_type": "execute_result"
    }
   ],
   "source": [
    "x = np.arange(5)\n",
    "np.logical_and(x>1, x<4) "
   ]
  },
  {
   "cell_type": "markdown",
   "metadata": {},
   "source": [
    "`dask.array.logical_not(x[, out])`"
   ]
  },
  {
   "cell_type": "code",
   "execution_count": 174,
   "metadata": {
    "ExecuteTime": {
     "end_time": "2018-03-15T20:45:34.874561Z",
     "start_time": "2018-03-15T20:45:34.869870Z"
    }
   },
   "outputs": [
    {
     "data": {
      "text/plain": [
       "array([False, False, False,  True,  True])"
      ]
     },
     "execution_count": 174,
     "metadata": {},
     "output_type": "execute_result"
    }
   ],
   "source": [
    "x = np.arange(5)\n",
    "np.logical_not(x<3)"
   ]
  },
  {
   "cell_type": "markdown",
   "metadata": {},
   "source": [
    "`dask.array.logical_or(x1, x2[, out])`"
   ]
  },
  {
   "cell_type": "code",
   "execution_count": 175,
   "metadata": {
    "ExecuteTime": {
     "end_time": "2018-03-15T20:46:08.653945Z",
     "start_time": "2018-03-15T20:46:08.649333Z"
    }
   },
   "outputs": [
    {
     "data": {
      "text/plain": [
       "array([ True, False, False, False,  True])"
      ]
     },
     "execution_count": 175,
     "metadata": {},
     "output_type": "execute_result"
    }
   ],
   "source": [
    "x = np.arange(5)\n",
    "np.logical_or(x < 1, x > 3) "
   ]
  },
  {
   "cell_type": "markdown",
   "metadata": {},
   "source": [
    "`dask.array.logical_xor(x1, x2[, out])`"
   ]
  },
  {
   "cell_type": "code",
   "execution_count": 176,
   "metadata": {
    "ExecuteTime": {
     "end_time": "2018-03-15T20:46:41.509650Z",
     "start_time": "2018-03-15T20:46:41.505023Z"
    }
   },
   "outputs": [
    {
     "data": {
      "text/plain": [
       "array([ True, False, False, False,  True])"
      ]
     },
     "execution_count": 176,
     "metadata": {},
     "output_type": "execute_result"
    }
   ],
   "source": [
    "x = np.arange(5)\n",
    "np.logical_xor(x < 1, x > 3)"
   ]
  },
  {
   "cell_type": "markdown",
   "metadata": {},
   "source": [
    "`dask.array.max(a, axis=None, out=None, keepdims=False)` return the maximum of an array or maximum along an axis."
   ]
  },
  {
   "cell_type": "code",
   "execution_count": 178,
   "metadata": {
    "ExecuteTime": {
     "end_time": "2018-03-15T20:48:57.103784Z",
     "start_time": "2018-03-15T20:48:57.098534Z"
    }
   },
   "outputs": [
    {
     "data": {
      "text/plain": [
       "3"
      ]
     },
     "execution_count": 178,
     "metadata": {},
     "output_type": "execute_result"
    }
   ],
   "source": [
    "a = np.arange(4).reshape((2,2))\n",
    "np.amax(a)"
   ]
  },
  {
   "cell_type": "code",
   "execution_count": 179,
   "metadata": {
    "ExecuteTime": {
     "end_time": "2018-03-15T20:49:05.400387Z",
     "start_time": "2018-03-15T20:49:05.395785Z"
    }
   },
   "outputs": [
    {
     "data": {
      "text/plain": [
       "array([2, 3])"
      ]
     },
     "execution_count": 179,
     "metadata": {},
     "output_type": "execute_result"
    }
   ],
   "source": [
    "np.amax(a, axis=0)"
   ]
  },
  {
   "cell_type": "markdown",
   "metadata": {},
   "source": [
    "`dask.array.maximum(x1, x2[, out])` element-wise maximum of array elements. Compare two arrays and returns a new array containing the element-wise maxima. If one of the elements being compared is a NaN, then that element is returned. "
   ]
  },
  {
   "cell_type": "code",
   "execution_count": 180,
   "metadata": {
    "ExecuteTime": {
     "end_time": "2018-03-15T20:50:04.831891Z",
     "start_time": "2018-03-15T20:50:04.827606Z"
    }
   },
   "outputs": [
    {
     "data": {
      "text/plain": [
       "array([2, 5, 4])"
      ]
     },
     "execution_count": 180,
     "metadata": {},
     "output_type": "execute_result"
    }
   ],
   "source": [
    "np.maximum([2, 3, 4], [1, 5, 2])"
   ]
  },
  {
   "cell_type": "code",
   "execution_count": 182,
   "metadata": {
    "ExecuteTime": {
     "end_time": "2018-03-15T20:50:20.681228Z",
     "start_time": "2018-03-15T20:50:20.676710Z"
    }
   },
   "outputs": [
    {
     "data": {
      "text/plain": [
       "array([[1., 0.],\n",
       "       [0., 1.]])"
      ]
     },
     "execution_count": 182,
     "metadata": {},
     "output_type": "execute_result"
    }
   ],
   "source": [
    "np.eye(2)"
   ]
  },
  {
   "cell_type": "code",
   "execution_count": 181,
   "metadata": {
    "ExecuteTime": {
     "end_time": "2018-03-15T20:50:10.913862Z",
     "start_time": "2018-03-15T20:50:10.908588Z"
    }
   },
   "outputs": [
    {
     "data": {
      "text/plain": [
       "array([[1. , 2. ],\n",
       "       [0.5, 2. ]])"
      ]
     },
     "execution_count": 181,
     "metadata": {},
     "output_type": "execute_result"
    }
   ],
   "source": [
    "np.maximum(np.eye(2), [0.5, 2]) # broadcasting  "
   ]
  },
  {
   "cell_type": "markdown",
   "metadata": {},
   "source": [
    "`dask.array.mean(a, axis=None, dtype=None, out=None, keepdims=False)` compute the arithmetic mean along the specified axis."
   ]
  },
  {
   "cell_type": "markdown",
   "metadata": {},
   "source": [
    "`dask.array.meshgrid(*xi, **kwargs)` return coordinate matrices from coordinate vectors.  make N-D coordinate arrays for vectorized evaluations of N-D scalar/vector fields over N-D grids, given one-dimensional coordinate arrays x1, x2,…, xn."
   ]
  },
  {
   "cell_type": "code",
   "execution_count": 185,
   "metadata": {
    "ExecuteTime": {
     "end_time": "2018-03-15T20:52:49.819448Z",
     "start_time": "2018-03-15T20:52:49.814586Z"
    }
   },
   "outputs": [],
   "source": [
    "nx, ny = (3, 2)\n",
    "x = np.linspace(0, 1, nx)\n",
    "y = np.linspace(0, 1, ny)\n",
    "xv, yv = np.meshgrid(x, y)"
   ]
  },
  {
   "cell_type": "code",
   "execution_count": 186,
   "metadata": {
    "ExecuteTime": {
     "end_time": "2018-03-15T20:52:52.542221Z",
     "start_time": "2018-03-15T20:52:52.537606Z"
    }
   },
   "outputs": [
    {
     "data": {
      "text/plain": [
       "array([[0. , 0.5, 1. ],\n",
       "       [0. , 0.5, 1. ]])"
      ]
     },
     "execution_count": 186,
     "metadata": {},
     "output_type": "execute_result"
    }
   ],
   "source": [
    "xv"
   ]
  },
  {
   "cell_type": "code",
   "execution_count": 187,
   "metadata": {
    "ExecuteTime": {
     "end_time": "2018-03-15T20:52:55.418141Z",
     "start_time": "2018-03-15T20:52:55.413417Z"
    }
   },
   "outputs": [
    {
     "data": {
      "text/plain": [
       "array([[0., 0., 0.],\n",
       "       [1., 1., 1.]])"
      ]
     },
     "execution_count": 187,
     "metadata": {},
     "output_type": "execute_result"
    }
   ],
   "source": [
    "yv"
   ]
  },
  {
   "cell_type": "code",
   "execution_count": 189,
   "metadata": {
    "ExecuteTime": {
     "end_time": "2018-03-15T20:53:13.432007Z",
     "start_time": "2018-03-15T20:53:13.427592Z"
    }
   },
   "outputs": [],
   "source": [
    "xv, yv = da.meshgrid(x, y, sparse=True)"
   ]
  },
  {
   "cell_type": "code",
   "execution_count": 191,
   "metadata": {
    "ExecuteTime": {
     "end_time": "2018-03-15T20:53:20.160937Z",
     "start_time": "2018-03-15T20:53:20.154925Z"
    }
   },
   "outputs": [
    {
     "data": {
      "text/plain": [
       "array([[0. , 0.5, 1. ]])"
      ]
     },
     "execution_count": 191,
     "metadata": {},
     "output_type": "execute_result"
    }
   ],
   "source": [
    "xv.compute()"
   ]
  },
  {
   "cell_type": "code",
   "execution_count": 193,
   "metadata": {
    "ExecuteTime": {
     "end_time": "2018-03-15T20:53:31.737048Z",
     "start_time": "2018-03-15T20:53:31.731084Z"
    }
   },
   "outputs": [
    {
     "data": {
      "text/plain": [
       "array([[0.],\n",
       "       [1.]])"
      ]
     },
     "execution_count": 193,
     "metadata": {},
     "output_type": "execute_result"
    }
   ],
   "source": [
    "yv.compute()"
   ]
  },
  {
   "cell_type": "markdown",
   "metadata": {},
   "source": [
    "`dask.array.modf(x[, out1, out2])` return the fractional and integral parts of an array, element-wise. the fractional and integral parts are negative if the given number is negative."
   ]
  },
  {
   "cell_type": "code",
   "execution_count": 194,
   "metadata": {
    "ExecuteTime": {
     "end_time": "2018-03-15T20:54:54.095977Z",
     "start_time": "2018-03-15T20:54:54.090733Z"
    }
   },
   "outputs": [
    {
     "data": {
      "text/plain": [
       "(array([0. , 0.5]), array([0., 3.]))"
      ]
     },
     "execution_count": 194,
     "metadata": {},
     "output_type": "execute_result"
    }
   ],
   "source": [
    "np.modf([0, 3.5])"
   ]
  },
  {
   "cell_type": "code",
   "execution_count": 195,
   "metadata": {
    "ExecuteTime": {
     "end_time": "2018-03-15T20:55:06.014671Z",
     "start_time": "2018-03-15T20:55:06.009710Z"
    }
   },
   "outputs": [
    {
     "data": {
      "text/plain": [
       "(array([0. , 0.5]), array([1., 3.]))"
      ]
     },
     "execution_count": 195,
     "metadata": {},
     "output_type": "execute_result"
    }
   ],
   "source": [
    "np.modf([1, 3.5])"
   ]
  },
  {
   "cell_type": "markdown",
   "metadata": {},
   "source": [
    "`dask.array.nanargmax(x, axis, **kwargs)`  \n",
    "`dask.array.nanargmin(x, axis, **kwargs)`  \n",
    "`dask.array.nancumprod(a, axis=None, dtype=None, out=None)`  \n",
    "`dask.array.nancumsum(a, axis=None, dtype=None, out=None) `  \n",
    "`dask.array.nanmean(a, axis=None, dtype=None, out=None, keepdims=False)`\n",
    "\n",
    "return the (argmax, argmin, cumprod, cumsum, mean, etc) of array elements over a given axis treating Not a Numbers (NaNs) as one. (max, min, std, prod, var, sum) "
   ]
  },
  {
   "cell_type": "markdown",
   "metadata": {},
   "source": [
    "`dask.array.percentile(a, q, interpolation='linear')` approximate percentile of 1-D array"
   ]
  },
  {
   "cell_type": "markdown",
   "metadata": {},
   "source": [
    "`dask.array.ptp(a, axis=None, out=None)` range of values (maximum - minimum) along an axis. (peak 2 peak)"
   ]
  },
  {
   "cell_type": "code",
   "execution_count": 196,
   "metadata": {
    "ExecuteTime": {
     "end_time": "2018-03-15T21:00:47.805717Z",
     "start_time": "2018-03-15T21:00:47.802902Z"
    }
   },
   "outputs": [],
   "source": [
    " x = np.arange(4).reshape((2,2))"
   ]
  },
  {
   "cell_type": "code",
   "execution_count": 198,
   "metadata": {
    "ExecuteTime": {
     "end_time": "2018-03-15T21:00:55.195516Z",
     "start_time": "2018-03-15T21:00:55.190852Z"
    }
   },
   "outputs": [
    {
     "data": {
      "text/plain": [
       "3"
      ]
     },
     "execution_count": 198,
     "metadata": {},
     "output_type": "execute_result"
    }
   ],
   "source": [
    "da.ptp(x)"
   ]
  },
  {
   "cell_type": "code",
   "execution_count": 199,
   "metadata": {
    "ExecuteTime": {
     "end_time": "2018-03-15T21:01:11.176389Z",
     "start_time": "2018-03-15T21:01:11.171690Z"
    }
   },
   "outputs": [
    {
     "data": {
      "text/plain": [
       "array([2, 2])"
      ]
     },
     "execution_count": 199,
     "metadata": {},
     "output_type": "execute_result"
    }
   ],
   "source": [
    "da.ptp(x, axis=0)"
   ]
  },
  {
   "cell_type": "markdown",
   "metadata": {},
   "source": [
    "`dask.array.ravel(a, order='C')` return a contiguous flattened array."
   ]
  },
  {
   "cell_type": "code",
   "execution_count": 200,
   "metadata": {
    "ExecuteTime": {
     "end_time": "2018-03-15T21:01:55.294557Z",
     "start_time": "2018-03-15T21:01:55.289715Z"
    }
   },
   "outputs": [
    {
     "data": {
      "text/plain": [
       "array([[1, 2, 3],\n",
       "       [4, 5, 6]])"
      ]
     },
     "execution_count": 200,
     "metadata": {},
     "output_type": "execute_result"
    }
   ],
   "source": [
    "x = np.array([[1, 2, 3], [4, 5, 6]])\n",
    "x"
   ]
  },
  {
   "cell_type": "code",
   "execution_count": 201,
   "metadata": {
    "ExecuteTime": {
     "end_time": "2018-03-15T21:01:59.428765Z",
     "start_time": "2018-03-15T21:01:59.424302Z"
    }
   },
   "outputs": [
    {
     "data": {
      "text/plain": [
       "array([1, 2, 3, 4, 5, 6])"
      ]
     },
     "execution_count": 201,
     "metadata": {},
     "output_type": "execute_result"
    }
   ],
   "source": [
    "np.ravel(x)"
   ]
  },
  {
   "cell_type": "markdown",
   "metadata": {},
   "source": [
    "`dask.array.reshape(x, shape)` parallelized version of the np.reshape function "
   ]
  },
  {
   "cell_type": "markdown",
   "metadata": {},
   "source": [
    "`dask.array.roll(a, shift, axis=None)` roll array elements along a given axis."
   ]
  },
  {
   "cell_type": "code",
   "execution_count": 202,
   "metadata": {
    "ExecuteTime": {
     "end_time": "2018-03-15T21:04:03.408266Z",
     "start_time": "2018-03-15T21:04:03.405387Z"
    }
   },
   "outputs": [],
   "source": [
    " x = np.arange(10)"
   ]
  },
  {
   "cell_type": "code",
   "execution_count": 207,
   "metadata": {
    "ExecuteTime": {
     "end_time": "2018-03-15T21:04:31.860798Z",
     "start_time": "2018-03-15T21:04:31.856741Z"
    }
   },
   "outputs": [
    {
     "data": {
      "text/plain": [
       "array([0, 1, 2, 3, 4, 5, 6, 7, 8, 9])"
      ]
     },
     "execution_count": 207,
     "metadata": {},
     "output_type": "execute_result"
    }
   ],
   "source": [
    "x"
   ]
  },
  {
   "cell_type": "code",
   "execution_count": 208,
   "metadata": {
    "ExecuteTime": {
     "end_time": "2018-03-15T21:04:43.514217Z",
     "start_time": "2018-03-15T21:04:43.508319Z"
    }
   },
   "outputs": [
    {
     "data": {
      "text/plain": [
       "array([8, 9, 0, 1, 2, 3, 4, 5, 6, 7])"
      ]
     },
     "execution_count": 208,
     "metadata": {},
     "output_type": "execute_result"
    }
   ],
   "source": [
    "da.roll(x, 2).compute() # shift, or deque shiting"
   ]
  },
  {
   "cell_type": "code",
   "execution_count": 209,
   "metadata": {
    "ExecuteTime": {
     "end_time": "2018-03-15T21:04:56.135463Z",
     "start_time": "2018-03-15T21:04:56.132127Z"
    }
   },
   "outputs": [],
   "source": [
    "x2 = np.reshape(x, (2,5))"
   ]
  },
  {
   "cell_type": "code",
   "execution_count": 210,
   "metadata": {
    "ExecuteTime": {
     "end_time": "2018-03-15T21:05:05.803044Z",
     "start_time": "2018-03-15T21:05:05.798525Z"
    }
   },
   "outputs": [
    {
     "data": {
      "text/plain": [
       "array([[9, 0, 1, 2, 3],\n",
       "       [4, 5, 6, 7, 8]])"
      ]
     },
     "execution_count": 210,
     "metadata": {},
     "output_type": "execute_result"
    }
   ],
   "source": [
    "np.roll(x2, 1)"
   ]
  },
  {
   "cell_type": "code",
   "execution_count": 211,
   "metadata": {
    "ExecuteTime": {
     "end_time": "2018-03-15T21:05:14.998268Z",
     "start_time": "2018-03-15T21:05:14.994213Z"
    }
   },
   "outputs": [
    {
     "data": {
      "text/plain": [
       "array([[5, 6, 7, 8, 9],\n",
       "       [0, 1, 2, 3, 4]])"
      ]
     },
     "execution_count": 211,
     "metadata": {},
     "output_type": "execute_result"
    }
   ],
   "source": [
    "np.roll(x2, 1, axis=0)"
   ]
  },
  {
   "cell_type": "code",
   "execution_count": 212,
   "metadata": {
    "ExecuteTime": {
     "end_time": "2018-03-15T21:05:27.304981Z",
     "start_time": "2018-03-15T21:05:27.299915Z"
    }
   },
   "outputs": [
    {
     "data": {
      "text/plain": [
       "array([[4, 0, 1, 2, 3],\n",
       "       [9, 5, 6, 7, 8]])"
      ]
     },
     "execution_count": 212,
     "metadata": {},
     "output_type": "execute_result"
    }
   ],
   "source": [
    "np.roll(x2, 1, axis=1)"
   ]
  },
  {
   "cell_type": "markdown",
   "metadata": {},
   "source": [
    "`dask.array.sqrt(x[, out])`"
   ]
  },
  {
   "cell_type": "code",
   "execution_count": 213,
   "metadata": {
    "ExecuteTime": {
     "end_time": "2018-03-15T21:06:17.922608Z",
     "start_time": "2018-03-15T21:06:17.917763Z"
    }
   },
   "outputs": [
    {
     "data": {
      "text/plain": [
       "array([1., 2., 3.])"
      ]
     },
     "execution_count": 213,
     "metadata": {},
     "output_type": "execute_result"
    }
   ],
   "source": [
    "da.sqrt([1,4,9]) "
   ]
  },
  {
   "cell_type": "markdown",
   "metadata": {},
   "source": [
    "`dask.array.square(x[, out])`"
   ]
  },
  {
   "cell_type": "code",
   "execution_count": 214,
   "metadata": {
    "ExecuteTime": {
     "end_time": "2018-03-15T21:06:45.652480Z",
     "start_time": "2018-03-15T21:06:45.647933Z"
    }
   },
   "outputs": [
    {
     "data": {
      "text/plain": [
       "array([1, 4, 9])"
      ]
     },
     "execution_count": 214,
     "metadata": {},
     "output_type": "execute_result"
    }
   ],
   "source": [
    "da.square([1, 2, 3])"
   ]
  },
  {
   "cell_type": "markdown",
   "metadata": {},
   "source": [
    "`dask.array.squeeze(a, axis=None)` remove single-dimensional entires from the shape of an array"
   ]
  },
  {
   "cell_type": "code",
   "execution_count": 216,
   "metadata": {
    "ExecuteTime": {
     "end_time": "2018-03-15T21:07:49.855685Z",
     "start_time": "2018-03-15T21:07:49.852202Z"
    }
   },
   "outputs": [],
   "source": [
    "x = np.array([[[0], [1], [2]]])"
   ]
  },
  {
   "cell_type": "code",
   "execution_count": 218,
   "metadata": {
    "ExecuteTime": {
     "end_time": "2018-03-15T21:08:02.086043Z",
     "start_time": "2018-03-15T21:08:02.081595Z"
    }
   },
   "outputs": [
    {
     "data": {
      "text/plain": [
       "array([0, 1, 2])"
      ]
     },
     "execution_count": 218,
     "metadata": {},
     "output_type": "execute_result"
    }
   ],
   "source": [
    "np.squeeze(x)"
   ]
  },
  {
   "cell_type": "markdown",
   "metadata": {},
   "source": [
    "`dask.array.take(a, indices, axis=None, out=None, mode='raise')` take elements from an array along an axis. This function does the same thing as “fancy” indexing (indexing arrays using arrays); however, it can be easier to use if you need elements along a given axis."
   ]
  },
  {
   "cell_type": "code",
   "execution_count": 219,
   "metadata": {
    "ExecuteTime": {
     "end_time": "2018-03-15T21:09:11.646357Z",
     "start_time": "2018-03-15T21:09:11.643345Z"
    }
   },
   "outputs": [],
   "source": [
    "a = np.array([4, 3, 5, 7, 6, 8])"
   ]
  },
  {
   "cell_type": "code",
   "execution_count": 220,
   "metadata": {
    "ExecuteTime": {
     "end_time": "2018-03-15T21:09:28.045708Z",
     "start_time": "2018-03-15T21:09:28.041277Z"
    }
   },
   "outputs": [
    {
     "data": {
      "text/plain": [
       "array([4, 3, 6])"
      ]
     },
     "execution_count": 220,
     "metadata": {},
     "output_type": "execute_result"
    }
   ],
   "source": [
    "indices = [0, 1, 4]\n",
    "np.take(a, indices)"
   ]
  },
  {
   "cell_type": "code",
   "execution_count": 221,
   "metadata": {
    "ExecuteTime": {
     "end_time": "2018-03-15T21:09:55.434354Z",
     "start_time": "2018-03-15T21:09:55.429491Z"
    }
   },
   "outputs": [
    {
     "data": {
      "text/plain": [
       "array([[4, 3],\n",
       "       [5, 7]])"
      ]
     },
     "execution_count": 221,
     "metadata": {},
     "output_type": "execute_result"
    }
   ],
   "source": [
    "np.take(a, [[0, 1], [2, 3]])"
   ]
  },
  {
   "cell_type": "markdown",
   "metadata": {},
   "source": [
    "`dask.array.tensordot(a, b, axes=2)` compute tensor dot product along specified axes for arrays >= 1-D. Given two `tensors` (arrays of dimension greater than or equal to one), `a` and `b`, and an array_like object containing two array_like objects, `(a_axes, b_axes)`, sum the products of a’s and b’s elements (components) over the axes specified by `a_axes` and `b_axes`. The third argument can be a single non-negative integer_like scalar, `N`; if it is such, then the last `N` dimensions of `a` and the first `N` dimensions of `b` are summed over."
   ]
  },
  {
   "cell_type": "code",
   "execution_count": 227,
   "metadata": {
    "ExecuteTime": {
     "end_time": "2018-03-15T21:12:25.489351Z",
     "start_time": "2018-03-15T21:12:25.480618Z"
    }
   },
   "outputs": [
    {
     "data": {
      "text/plain": [
       "array([[4400., 4730.],\n",
       "       [4532., 4874.],\n",
       "       [4664., 5018.],\n",
       "       [4796., 5162.],\n",
       "       [4928., 5306.]])"
      ]
     },
     "execution_count": 227,
     "metadata": {},
     "output_type": "execute_result"
    }
   ],
   "source": [
    "a = np.arange(60.).reshape(3,4,5)\n",
    "b = np.arange(24.).reshape(4,3,2)\n",
    "c = np.tensordot(a,b, axes=([1,0],[0,1]))\n",
    "c"
   ]
  },
  {
   "cell_type": "code",
   "execution_count": 225,
   "metadata": {
    "ExecuteTime": {
     "end_time": "2018-03-15T21:12:09.212255Z",
     "start_time": "2018-03-15T21:12:09.207802Z"
    }
   },
   "outputs": [
    {
     "data": {
      "text/plain": [
       "(5, 2)"
      ]
     },
     "execution_count": 225,
     "metadata": {},
     "output_type": "execute_result"
    }
   ],
   "source": [
    "c.shape"
   ]
  },
  {
   "cell_type": "markdown",
   "metadata": {},
   "source": [
    "`dask.array.transpose(a, axes=None)` permute the dimensions of an array."
   ]
  },
  {
   "cell_type": "code",
   "execution_count": 228,
   "metadata": {
    "ExecuteTime": {
     "end_time": "2018-03-15T21:13:35.781997Z",
     "start_time": "2018-03-15T21:13:35.776231Z"
    }
   },
   "outputs": [
    {
     "data": {
      "text/plain": [
       "array([[0, 1],\n",
       "       [2, 3]])"
      ]
     },
     "execution_count": 228,
     "metadata": {},
     "output_type": "execute_result"
    }
   ],
   "source": [
    "x = np.arange(4).reshape((2,2))\n",
    "x"
   ]
  },
  {
   "cell_type": "code",
   "execution_count": 230,
   "metadata": {
    "ExecuteTime": {
     "end_time": "2018-03-15T21:13:49.843037Z",
     "start_time": "2018-03-15T21:13:49.838168Z"
    }
   },
   "outputs": [
    {
     "data": {
      "text/plain": [
       "array([[0, 2],\n",
       "       [1, 3]])"
      ]
     },
     "execution_count": 230,
     "metadata": {},
     "output_type": "execute_result"
    }
   ],
   "source": [
    "np.transpose(x)"
   ]
  },
  {
   "cell_type": "markdown",
   "metadata": {},
   "source": [
    "`dask.array.trunc(x[, out])` return the truncated value of the input, element-wise.  The truncated value of the scalar x is the nearest integer i which is closer to zero than x is. In short, the fractional part of the signed number x is discarded."
   ]
  },
  {
   "cell_type": "code",
   "execution_count": 232,
   "metadata": {
    "ExecuteTime": {
     "end_time": "2018-03-15T21:20:18.914732Z",
     "start_time": "2018-03-15T21:20:18.909360Z"
    }
   },
   "outputs": [
    {
     "data": {
      "text/plain": [
       "[-1.7, -1.5, -0.2, 0.2, 1.5, 1.7, 2.0]"
      ]
     },
     "execution_count": 232,
     "metadata": {},
     "output_type": "execute_result"
    }
   ],
   "source": [
    "a = da.array([-1.7, -1.5, -0.2, 0.2, 1.5, 1.7, 2.0])  \n",
    "a"
   ]
  },
  {
   "cell_type": "code",
   "execution_count": 233,
   "metadata": {
    "ExecuteTime": {
     "end_time": "2018-03-15T21:20:28.081441Z",
     "start_time": "2018-03-15T21:20:28.075385Z"
    }
   },
   "outputs": [
    {
     "data": {
      "text/plain": [
       "array([-1., -1., -0.,  0.,  1.,  1.,  2.])"
      ]
     },
     "execution_count": 233,
     "metadata": {},
     "output_type": "execute_result"
    }
   ],
   "source": [
    "da.trunc(a)"
   ]
  },
  {
   "cell_type": "markdown",
   "metadata": {},
   "source": [
    "`dask.array.unique(ar, return_index=False, return_inverse=False, return_counts=False)` find the unique elements of an array. Returns the sorted unique elements of an array. There are three optional outputs in addition to the unique elements: the indices of the input array that give the unique values, the indices of the unique array that reconstruct the input array, and the number of times each unique value comes up in the input array."
   ]
  },
  {
   "cell_type": "code",
   "execution_count": 236,
   "metadata": {
    "ExecuteTime": {
     "end_time": "2018-03-15T21:22:04.440644Z",
     "start_time": "2018-03-15T21:22:04.435391Z"
    }
   },
   "outputs": [
    {
     "data": {
      "text/plain": [
       "array([1, 2, 3])"
      ]
     },
     "execution_count": 236,
     "metadata": {},
     "output_type": "execute_result"
    }
   ],
   "source": [
    "a = np.array([[1, 1], [2, 3]])\n",
    "np.unique(a)"
   ]
  },
  {
   "cell_type": "markdown",
   "metadata": {},
   "source": [
    "`dask.array.vdot(a, b)` return the dot product of two vectors. The vdot(a, b) function handles complex numbers differently than dot(a, b). If the first argument is complex the complex conjugate of the first argument is used for the calculation of the dot product."
   ]
  },
  {
   "cell_type": "code",
   "execution_count": 237,
   "metadata": {
    "ExecuteTime": {
     "end_time": "2018-03-15T21:23:16.823867Z",
     "start_time": "2018-03-15T21:23:16.818086Z"
    }
   },
   "outputs": [
    {
     "data": {
      "text/plain": [
       "30"
      ]
     },
     "execution_count": 237,
     "metadata": {},
     "output_type": "execute_result"
    }
   ],
   "source": [
    "a = np.array([[1, 4], [5, 6]])\n",
    "b = np.array([[4, 1], [2, 2]])\n",
    "np.vdot(a, b)"
   ]
  },
  {
   "cell_type": "code",
   "execution_count": 239,
   "metadata": {
    "ExecuteTime": {
     "end_time": "2018-03-15T21:23:23.977066Z",
     "start_time": "2018-03-15T21:23:23.972816Z"
    }
   },
   "outputs": [
    {
     "data": {
      "text/plain": [
       "array([[12,  9],\n",
       "       [32, 17]])"
      ]
     },
     "execution_count": 239,
     "metadata": {},
     "output_type": "execute_result"
    }
   ],
   "source": [
    "np.dot(a, b)"
   ]
  },
  {
   "cell_type": "markdown",
   "metadata": {},
   "source": [
    "`dask.array.vnorm(a, ord=None, axis=None, dtype=None, keepdims=False, split_every=None, out=None)` vector norm"
   ]
  },
  {
   "cell_type": "markdown",
   "metadata": {},
   "source": [
    "`dask.array.linalg.inv(a)` compute the inverse of a matrix with LU decomposition and forward / backward substitutions; where a is the square matrix to be inverted"
   ]
  },
  {
   "cell_type": "markdown",
   "metadata": {},
   "source": [
    "`dask.array.linalg.lstsq(a, b)` return the least-squares solution to a linear matrix equation using QR decomposition.  Solves the equation a x = b by computing a vector x that minimizes the Euclidean 2-norm || b - a x ||^2. The equation may be under-, well-, or over- determined (i.e., the number of linearly independent rows of a can be less than, equal to, or greater than its number of linearly independent columns). If a is square and of full rank, then x (but for round-off error) is the “exact” solution of the equation."
   ]
  },
  {
   "cell_type": "markdown",
   "metadata": {},
   "source": [
    "`dask.array.linalg.lu(a)` compute the lu decomposition of a matrix.  returns `p, l, u = da.linalg.lu(x)` where `p` is array permutation matrix, `l` is array over lower triangle matrix with unit diagonal and `u` is array of upper triangle matrix"
   ]
  },
  {
   "cell_type": "markdown",
   "metadata": {},
   "source": [
    "`dask.array.linalg.norm(x, ord=None, axis=None, keepdims=False)` matrix or vector norm."
   ]
  },
  {
   "cell_type": "markdown",
   "metadata": {},
   "source": [
    "`dask.array.linalg.qr(a, name=None)` Compute the qr factorization of a matrix. `q` is array orthonormal and `r` is array upper-triangle"
   ]
  },
  {
   "cell_type": "markdown",
   "metadata": {},
   "source": [
    "`dask.array.linalg.solve(a, b, sym_pos=False)` Solve the equation `a x = b` for `x`. By default, use LU decomposition and forward / backward substitutions. When sym_pos is True, use Cholesky decomposition."
   ]
  },
  {
   "cell_type": "markdown",
   "metadata": {},
   "source": [
    "`dask.array.linalg.solve_triangular(a, b, lower=False)` Solve the equation a x = b for x, assuming a is a triangular matrix."
   ]
  },
  {
   "cell_type": "markdown",
   "metadata": {},
   "source": [
    "`dask.array.linalg.svd(a, name=None)` compute the singular value decomposition of a matrix. where `u` is array that is unitary/orthogonal. `s` is array with singular values in decreasing order and `v` is an array that is unitary/orthogonal `u, s, v = da.linalg.svd(x)`"
   ]
  },
  {
   "cell_type": "markdown",
   "metadata": {},
   "source": [
    "`dask.array.ma.fix_invalid(a, mask=False, copy=True, fill_value=None)` Return input with invalid data masked and replaced by a fill value where invalid data means values of nan, inf, etc."
   ]
  },
  {
   "cell_type": "markdown",
   "metadata": {},
   "source": [
    "### Distributions"
   ]
  },
  {
   "cell_type": "markdown",
   "metadata": {},
   "source": [
    "`dask.array.random.beta(a, b, size=None)` draw random samples from a Beta distribution The Beta distribution is a special case of the Dirichlet distribution, and is related to the Gamma distribution. "
   ]
  },
  {
   "cell_type": "markdown",
   "metadata": {},
   "source": [
    "`dask.array.random.binomial(n, p, size=None)` draw samples from a binomial distribution.  Samples are drawn from a binomial distribution with specified parameters, n trials and p probability of success where n an integer >= 0 and p is in the interval [0,1]. (n may be input as a float, but it is truncated to an integer in use)"
   ]
  },
  {
   "cell_type": "markdown",
   "metadata": {},
   "source": [
    "`dask.array.random.chisquare(df, size=None)` draw samples from a chi-square distribution. When df independent random variables, each with standard normal distributions (mean 0, variance 1), are squared and summed, the resulting distribution is chi-square (see Notes). This distribution is often used in hypothesis testing."
   ]
  },
  {
   "cell_type": "markdown",
   "metadata": {},
   "source": [
    "`dask.array.random.exponential(scale=1.0, size=None)` draw samples from an exponential distribution.  The exponential distribution is a continuous analogue of the geometric distribution."
   ]
  },
  {
   "cell_type": "markdown",
   "metadata": {},
   "source": [
    "`dask.array.random.gamma(shape, scale=1.0, size=None)` draw samples from a Gamma distribution. Samples are drawn from a Gamma distribution with specified parameters, shape (sometimes designated “k”) and scale (sometimes designated “theta”), where both parameters are > 0."
   ]
  },
  {
   "cell_type": "markdown",
   "metadata": {},
   "source": [
    "`dask.array.random.geometric(p, size=None)` draw samples from the geometric distribution. Bernoulli trials are experiments with one of two outcomes: success or failure (an example of such an experiment is flipping a coin). The geometric distribution models the number of trials that must be run in order to achieve success. It is therefore supported on the positive integers, k = 1, 2, .."
   ]
  },
  {
   "cell_type": "markdown",
   "metadata": {},
   "source": [
    "`dask.array.random.laplace(loc=0.0, scale=1.0, size=None)` draw samples from the Laplace or double exponential distribution with specified location (or mean) and scale (decay).  The Laplace distribution is similar to the Gaussian/normal distribution, but is sharper at the peak and has fatter tails. It represents the difference between two independent, identically distributed exponential random variables."
   ]
  },
  {
   "cell_type": "markdown",
   "metadata": {},
   "source": [
    "`dask.array.random.logistic(loc=0.0, scale=1.0, size=None)` Draw samples from a logistic distribution.  Samples are drawn from a logistic distribution with specified parameters, loc (location or mean, also median), and scale (>0)."
   ]
  },
  {
   "cell_type": "markdown",
   "metadata": {},
   "source": [
    "`dask.array.random.lognormal(mean=0.0, sigma=1.0, size=None)` Draw samples from a log-normal distribution with specified mean, standard deviation, and array shape. Note that the mean and standard deviation are not the values for the distribution itself, but of the underlying normal distribution it is derived from."
   ]
  },
  {
   "cell_type": "markdown",
   "metadata": {},
   "source": [
    "`dask.array.random.negative_binomial(n, p, size=None)` Draw from a negative binomial distribution with specified parameters, n trials and p probability of success where n is an integer > 0 and p is in the interval [0, 1]."
   ]
  },
  {
   "cell_type": "markdown",
   "metadata": {},
   "source": [
    "`dask.array.random.normal(loc=0.0, scale=1.0, size=None)` draw random samples from a normal (Gaussian) distribution."
   ]
  },
  {
   "cell_type": "markdown",
   "metadata": {},
   "source": [
    "`dask.array.random.poisson(lam=1.0, size=None)` draw samples from a Poisson distribution.  The Poisson distribution is the limit of the binomial distribution for large N."
   ]
  },
  {
   "cell_type": "markdown",
   "metadata": {},
   "source": [
    "`dask.array.random.random(size=None)` eturn random floats in the half-open interval [0.0, 1.0). Results are from the “continuous uniform” distribution over the stated interval. To sample `Unif[a,b),b>a` multiply the output of random_sample by (b-a) and add a: `(b - a) * random_sample() + a`"
   ]
  },
  {
   "cell_type": "markdown",
   "metadata": {},
   "source": [
    "`dask.array.random.standard_normal(size=None)` draw samples from a standard Normal distribution (mean=0, stdev=1)."
   ]
  },
  {
   "cell_type": "markdown",
   "metadata": {},
   "source": [
    "`dask.array.random.uniform(low=0.0, high=1.0, size=None)` draw samples from a uniform distribution.  Samples are uniformly distributed over the half-open interval [low, high) (includes low, but excludes high). In other words, any value within the given interval is equally likely to be drawn by uniform."
   ]
  },
  {
   "cell_type": "markdown",
   "metadata": {},
   "source": [
    "`dask.array.stats.normaltest(a, axis=0, nan_policy='propagate')` Tests whether a sample differs from a normal distribution."
   ]
  },
  {
   "cell_type": "markdown",
   "metadata": {},
   "source": [
    "`dask.array.stats.f_oneway(*args)` Performs a 1-way ANOVA.  The one-way ANOVA tests the null hypothesis that two or more groups have the same population mean. The test is applied to samples from two or more groups, possibly with differing sizes."
   ]
  },
  {
   "cell_type": "markdown",
   "metadata": {},
   "source": [
    "`dask.array.stats.moment(a, moment=1, axis=0, nan_policy='propagate')` Calculates the nth moment about the mean for a sample.  A moment is a specific quantitative measure of the shape of a set of points. It is often used to calculate coefficients of skewness and kurtosis due to its close relationship with them."
   ]
  },
  {
   "cell_type": "markdown",
   "metadata": {},
   "source": [
    "`dask.array.image.imread(filename, imread=None, preprocess=None)` read a stack of images into a dask array"
   ]
  },
  {
   "cell_type": "markdown",
   "metadata": {},
   "source": [
    "### Chunks"
   ]
  },
  {
   "cell_type": "markdown",
   "metadata": {},
   "source": [
    "We store the size of each block along each axis. This is a tuple of tuples such that the length of the outer tuple is equal to the dimension and the lengths of the inner tuples are equal to the number of blocks along each dimension. In the example illustrated above this value is as follows:  \n",
    "`chunks = ((5, 5, 5, 5), (8, 8, 8))`  \n",
    "Note that these numbers do not necessarily need to be regular. We often create regularly sized grids but blocks change shape after complex slicing. Beware that some operations do expect certain symmetries in the block-shapes. For example matrix multiplication requires that blocks on each side have anti-symmetric shapes."
   ]
  },
  {
   "cell_type": "markdown",
   "metadata": {},
   "source": [
    "### Slicing"
   ]
  },
  {
   "cell_type": "markdown",
   "metadata": {},
   "source": [
    "Dask array supports most of the NumPy slicing syntax. In particular it supports the following:\n",
    "\n",
    "    Slicing by integers and slices x[0, :5]\n",
    "    Slicing by lists/arrays of integers x[[1, 2, 4]]\n",
    "    Slicing by lists/arrays of booleans x[[False, True, True, False, True]]\n",
    "    Slicing one dask.array with another x[x > 0]\n",
    "It does not currently support the following:\n",
    "\n",
    "    Slicing with lists in multiple axes x[[1, 2, 3], [3, 2, 1]]"
   ]
  },
  {
   "cell_type": "markdown",
   "metadata": {},
   "source": [
    "Trillion element array of ones, in 1000 by 1000 blocks"
   ]
  },
  {
   "cell_type": "code",
   "execution_count": 247,
   "metadata": {
    "ExecuteTime": {
     "end_time": "2018-03-15T21:57:45.939579Z",
     "start_time": "2018-03-15T21:57:44.239271Z"
    }
   },
   "outputs": [],
   "source": [
    "x = da.ones((1000000, 1000000), chunks=(1000, 1000))"
   ]
  },
  {
   "cell_type": "code",
   "execution_count": 249,
   "metadata": {
    "ExecuteTime": {
     "end_time": "2018-03-15T21:58:13.418918Z",
     "start_time": "2018-03-15T21:58:08.075185Z"
    }
   },
   "outputs": [
    {
     "data": {
      "text/plain": [
       "array([[2.71828183, 2.71828183, 2.71828183, ..., 2.71828183, 2.71828183,\n",
       "        2.71828183],\n",
       "       [2.71828183, 2.71828183, 2.71828183, ..., 2.71828183, 2.71828183,\n",
       "        2.71828183],\n",
       "       [2.71828183, 2.71828183, 2.71828183, ..., 2.71828183, 2.71828183,\n",
       "        2.71828183],\n",
       "       ...,\n",
       "       [2.71828183, 2.71828183, 2.71828183, ..., 2.71828183, 2.71828183,\n",
       "        2.71828183],\n",
       "       [2.71828183, 2.71828183, 2.71828183, ..., 2.71828183, 2.71828183,\n",
       "        2.71828183],\n",
       "       [2.71828183, 2.71828183, 2.71828183, ..., 2.71828183, 2.71828183,\n",
       "        2.71828183]])"
      ]
     },
     "execution_count": 249,
     "metadata": {},
     "output_type": "execute_result"
    }
   ],
   "source": [
    "da.exp(x)[:1500, :1500].compute()"
   ]
  },
  {
   "cell_type": "markdown",
   "metadata": {},
   "source": [
    "### Ghosting"
   ]
  },
  {
   "cell_type": "markdown",
   "metadata": {},
   "source": [
    "Creating a new array where each block is slightly expanded by the borders of its neighbors. This costs an excess copy and the communication of many small chunks but allows localized functions to evaluate in an embarrassing manner. We call this process ghosting."
   ]
  },
  {
   "cell_type": "code",
   "execution_count": 242,
   "metadata": {
    "ExecuteTime": {
     "end_time": "2018-03-15T21:51:25.079499Z",
     "start_time": "2018-03-15T21:51:25.073836Z"
    }
   },
   "outputs": [
    {
     "data": {
      "text/plain": [
       "((4, 4), (4, 4))"
      ]
     },
     "execution_count": 242,
     "metadata": {},
     "output_type": "execute_result"
    }
   ],
   "source": [
    "x = np.arange(64).reshape((8, 8))\n",
    "d = da.from_array(x, chunks=(4, 4))\n",
    "d.chunks"
   ]
  },
  {
   "cell_type": "code",
   "execution_count": 243,
   "metadata": {
    "ExecuteTime": {
     "end_time": "2018-03-15T21:51:42.633045Z",
     "start_time": "2018-03-15T21:51:42.626633Z"
    }
   },
   "outputs": [],
   "source": [
    "g = da.ghost.ghost(d, depth={0: 2, 1: 1},\n",
    "                   boundary={0: 100, 1: 'reflect'})"
   ]
  },
  {
   "cell_type": "code",
   "execution_count": 245,
   "metadata": {
    "ExecuteTime": {
     "end_time": "2018-03-15T21:51:53.307668Z",
     "start_time": "2018-03-15T21:51:53.289909Z"
    }
   },
   "outputs": [
    {
     "data": {
      "text/plain": [
       "array([[100, 100, 100, 100, 100, 100, 100, 100, 100, 100, 100, 100],\n",
       "       [100, 100, 100, 100, 100, 100, 100, 100, 100, 100, 100, 100],\n",
       "       [  0,   0,   1,   2,   3,   4,   3,   4,   5,   6,   7,   7],\n",
       "       [  8,   8,   9,  10,  11,  12,  11,  12,  13,  14,  15,  15],\n",
       "       [ 16,  16,  17,  18,  19,  20,  19,  20,  21,  22,  23,  23],\n",
       "       [ 24,  24,  25,  26,  27,  28,  27,  28,  29,  30,  31,  31],\n",
       "       [ 32,  32,  33,  34,  35,  36,  35,  36,  37,  38,  39,  39],\n",
       "       [ 40,  40,  41,  42,  43,  44,  43,  44,  45,  46,  47,  47],\n",
       "       [ 16,  16,  17,  18,  19,  20,  19,  20,  21,  22,  23,  23],\n",
       "       [ 24,  24,  25,  26,  27,  28,  27,  28,  29,  30,  31,  31],\n",
       "       [ 32,  32,  33,  34,  35,  36,  35,  36,  37,  38,  39,  39],\n",
       "       [ 40,  40,  41,  42,  43,  44,  43,  44,  45,  46,  47,  47],\n",
       "       [ 48,  48,  49,  50,  51,  52,  51,  52,  53,  54,  55,  55],\n",
       "       [ 56,  56,  57,  58,  59,  60,  59,  60,  61,  62,  63,  63],\n",
       "       [100, 100, 100, 100, 100, 100, 100, 100, 100, 100, 100, 100],\n",
       "       [100, 100, 100, 100, 100, 100, 100, 100, 100, 100, 100, 100]])"
      ]
     },
     "execution_count": 245,
     "metadata": {},
     "output_type": "execute_result"
    }
   ],
   "source": [
    "g.compute()"
   ]
  },
  {
   "cell_type": "code",
   "execution_count": 246,
   "metadata": {
    "ExecuteTime": {
     "end_time": "2018-03-15T21:52:04.263322Z",
     "start_time": "2018-03-15T21:52:04.258878Z"
    }
   },
   "outputs": [
    {
     "data": {
      "text/plain": [
       "((8, 8), (6, 6))"
      ]
     },
     "execution_count": 246,
     "metadata": {},
     "output_type": "execute_result"
    }
   ],
   "source": [
    "g.chunks"
   ]
  },
  {
   "cell_type": "code",
   "execution_count": null,
   "metadata": {},
   "outputs": [],
   "source": []
  }
 ],
 "metadata": {
  "kernelspec": {
   "display_name": "Python 3",
   "language": "python",
   "name": "python3"
  },
  "language_info": {
   "codemirror_mode": {
    "name": "ipython",
    "version": 3
   },
   "file_extension": ".py",
   "mimetype": "text/x-python",
   "name": "python",
   "nbconvert_exporter": "python",
   "pygments_lexer": "ipython3",
   "version": "3.6.4"
  }
 },
 "nbformat": 4,
 "nbformat_minor": 2
}
