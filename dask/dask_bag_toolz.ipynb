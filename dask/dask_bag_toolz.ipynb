{
 "cells": [
  {
   "cell_type": "code",
   "execution_count": 17,
   "metadata": {
    "ExecuteTime": {
     "end_time": "2018-03-14T20:31:39.817945Z",
     "start_time": "2018-03-14T20:31:39.732508Z"
    }
   },
   "outputs": [],
   "source": [
    "import dask\n",
    "import dask.bag as db"
   ]
  },
  {
   "cell_type": "code",
   "execution_count": 1,
   "metadata": {
    "ExecuteTime": {
     "end_time": "2018-03-14T20:05:50.245210Z",
     "start_time": "2018-03-14T20:05:50.241700Z"
    }
   },
   "outputs": [],
   "source": [
    "def stem(word):\n",
    "    \"\"\"Stem a word\"\"\"\n",
    "    return word.lower().rstrip(\",.!:;'-\\\"\").lstrip(\"'\\\"\")"
   ]
  },
  {
   "cell_type": "code",
   "execution_count": 14,
   "metadata": {
    "ExecuteTime": {
     "end_time": "2018-03-14T20:12:52.329832Z",
     "start_time": "2018-03-14T20:12:52.326601Z"
    }
   },
   "outputs": [],
   "source": [
    "from toolz import compose, frequencies, partial, identity\n",
    "import toolz\n",
    "from toolz.curried import map"
   ]
  },
  {
   "cell_type": "code",
   "execution_count": 4,
   "metadata": {
    "ExecuteTime": {
     "end_time": "2018-03-14T20:06:43.542380Z",
     "start_time": "2018-03-14T20:06:43.539431Z"
    }
   },
   "outputs": [],
   "source": [
    "wordcount = compose(frequencies, map(stem), str.split)"
   ]
  },
  {
   "cell_type": "code",
   "execution_count": 5,
   "metadata": {
    "ExecuteTime": {
     "end_time": "2018-03-14T20:07:00.447329Z",
     "start_time": "2018-03-14T20:07:00.444689Z"
    }
   },
   "outputs": [],
   "source": [
    "sentence = \"The quick brown fox jumped over the lazy dog!\""
   ]
  },
  {
   "cell_type": "code",
   "execution_count": 6,
   "metadata": {
    "ExecuteTime": {
     "end_time": "2018-03-14T20:07:04.858470Z",
     "start_time": "2018-03-14T20:07:04.846188Z"
    }
   },
   "outputs": [
    {
     "data": {
      "text/plain": [
       "{'brown': 1,\n",
       " 'dog': 1,\n",
       " 'fox': 1,\n",
       " 'jumped': 1,\n",
       " 'lazy': 1,\n",
       " 'over': 1,\n",
       " 'quick': 1,\n",
       " 'the': 2}"
      ]
     },
     "execution_count": 6,
     "metadata": {},
     "output_type": "execute_result"
    }
   ],
   "source": [
    "wordcount(sentence)"
   ]
  },
  {
   "cell_type": "code",
   "execution_count": 16,
   "metadata": {
    "ExecuteTime": {
     "end_time": "2018-03-14T20:13:03.228221Z",
     "start_time": "2018-03-14T20:13:03.223255Z"
    }
   },
   "outputs": [
    {
     "data": {
      "text/plain": [
       "<function __main__.stem>"
      ]
     },
     "execution_count": 16,
     "metadata": {},
     "output_type": "execute_result"
    }
   ],
   "source": [
    "identity(stem)"
   ]
  },
  {
   "cell_type": "code",
   "execution_count": 92,
   "metadata": {
    "ExecuteTime": {
     "end_time": "2018-03-14T21:34:50.616866Z",
     "start_time": "2018-03-14T21:34:50.606882Z"
    }
   },
   "outputs": [],
   "source": [
    "b = db.read_text('/Users/alexanderkunkel/bin/gutenberg/aleph.gutenberg.org/0/1/1.txt.gz', compression='gzip', errors='replace').str.strip().str.rstrip(\",.!:;'-\\\"\").str.lstrip(\"'\\\"\").str.lower().str.split(' ')"
   ]
  },
  {
   "cell_type": "code",
   "execution_count": 93,
   "metadata": {
    "ExecuteTime": {
     "end_time": "2018-03-14T21:34:51.540206Z",
     "start_time": "2018-03-14T21:34:51.217362Z"
    }
   },
   "outputs": [
    {
     "data": {
      "text/plain": [
       "['',\n",
       " '',\n",
       " '===========================================================',\n",
       " '',\n",
       " 'note:',\n",
       " '',\n",
       " 'this',\n",
       " 'file',\n",
       " 'combines',\n",
       " 'the',\n",
       " 'first',\n",
       " 'two',\n",
       " 'project',\n",
       " 'gutenberg',\n",
       " 'files,',\n",
       " 'both',\n",
       " 'of',\n",
       " 'which',\n",
       " 'were',\n",
       " 'given',\n",
       " 'the',\n",
       " 'filenumber',\n",
       " '#1.',\n",
       " 'there',\n",
       " 'are',\n",
       " 'several',\n",
       " 'duplicate',\n",
       " 'files',\n",
       " 'here.',\n",
       " 'there',\n",
       " 'were',\n",
       " 'many',\n",
       " 'updates',\n",
       " 'over',\n",
       " 'the',\n",
       " 'years.',\n",
       " '',\n",
       " 'all',\n",
       " 'of',\n",
       " 'the',\n",
       " 'original',\n",
       " 'files',\n",
       " 'are',\n",
       " 'included',\n",
       " 'in',\n",
       " 'the',\n",
       " 'old\"',\n",
       " 'subdirectory',\n",
       " 'which',\n",
       " 'may',\n",
       " 'be',\n",
       " 'accessed',\n",
       " 'under',\n",
       " 'the',\n",
       " '\"more',\n",
       " 'files\"',\n",
       " 'listing',\n",
       " 'in',\n",
       " 'the',\n",
       " 'pg',\n",
       " 'catalog',\n",
       " 'of',\n",
       " 'this',\n",
       " 'file.',\n",
       " 'no',\n",
       " 'changes',\n",
       " 'have',\n",
       " 'been',\n",
       " 'made',\n",
       " 'in',\n",
       " 'these',\n",
       " 'original',\n",
       " 'etexts',\n",
       " '',\n",
       " '===========================================================',\n",
       " '',\n",
       " '',\n",
       " '**welcome',\n",
       " 'to',\n",
       " 'the',\n",
       " 'world',\n",
       " 'of',\n",
       " 'free',\n",
       " 'plain',\n",
       " 'vanilla',\n",
       " 'electronic',\n",
       " 'texts**',\n",
       " '',\n",
       " '**etexts',\n",
       " 'readable',\n",
       " 'by',\n",
       " 'both',\n",
       " 'humans',\n",
       " 'and',\n",
       " 'by',\n",
       " 'computers,',\n",
       " 'since',\n",
       " '1971**',\n",
       " '',\n",
       " '*these',\n",
       " 'etexts',\n",
       " 'prepared',\n",
       " 'by',\n",
       " 'hundreds',\n",
       " 'of',\n",
       " 'volunteers',\n",
       " 'and',\n",
       " 'donations*',\n",
       " '',\n",
       " 'below',\n",
       " 'you',\n",
       " 'will',\n",
       " 'find',\n",
       " 'the',\n",
       " 'first',\n",
       " 'nine',\n",
       " 'project',\n",
       " 'gutenberg',\n",
       " 'etexts,',\n",
       " 'in',\n",
       " 'one',\n",
       " 'file,',\n",
       " 'with',\n",
       " 'one',\n",
       " 'header',\n",
       " 'for',\n",
       " 'the',\n",
       " 'entire',\n",
       " 'file.',\n",
       " '',\n",
       " 'this',\n",
       " 'is',\n",
       " 'to',\n",
       " 'keep',\n",
       " 'the',\n",
       " 'overhead',\n",
       " 'down,',\n",
       " 'and',\n",
       " 'in',\n",
       " 'response',\n",
       " 'to',\n",
       " 'requests',\n",
       " 'from',\n",
       " 'gopher',\n",
       " 'site',\n",
       " 'keeper',\n",
       " 'to',\n",
       " 'eliminate',\n",
       " 'as',\n",
       " 'much',\n",
       " 'of',\n",
       " 'the',\n",
       " 'headers',\n",
       " 'as',\n",
       " 'possible',\n",
       " '',\n",
       " 'however,',\n",
       " 'for',\n",
       " 'legal',\n",
       " 'and',\n",
       " 'financial',\n",
       " 'reasons,',\n",
       " 'we',\n",
       " 'must',\n",
       " 'request',\n",
       " 'these',\n",
       " 'headers',\n",
       " 'be',\n",
       " 'left',\n",
       " 'at',\n",
       " 'the',\n",
       " 'beginning',\n",
       " 'of',\n",
       " 'each',\n",
       " 'file',\n",
       " 'that',\n",
       " 'is',\n",
       " 'posted',\n",
       " 'in',\n",
       " 'any',\n",
       " 'general',\n",
       " 'user',\n",
       " 'areas,',\n",
       " 'as',\n",
       " 'project',\n",
       " 'gutenberg',\n",
       " 'is',\n",
       " 'run',\n",
       " 'mostly',\n",
       " 'by',\n",
       " 'a',\n",
       " 'donation',\n",
       " 'from',\n",
       " 'people',\n",
       " 'like',\n",
       " 'you',\n",
       " '',\n",
       " 'if',\n",
       " 'you',\n",
       " 'see',\n",
       " 'our',\n",
       " 'books',\n",
       " 'posted',\n",
       " 'anywhere',\n",
       " 'without',\n",
       " 'these',\n",
       " 'headers,',\n",
       " 'you',\n",
       " 'are',\n",
       " 'requested',\n",
       " 'to',\n",
       " 'send',\n",
       " 'them',\n",
       " 'a',\n",
       " 'note',\n",
       " 'requesting',\n",
       " 'they',\n",
       " 're-attach',\n",
       " 'the',\n",
       " 'header,',\n",
       " 'otherwise',\n",
       " 'they',\n",
       " 'have',\n",
       " 'no',\n",
       " 'legal',\n",
       " 'protection',\n",
       " 'and',\n",
       " 'we',\n",
       " 'have',\n",
       " 'the',\n",
       " 'loss',\n",
       " 'of',\n",
       " 'the',\n",
       " 'donations',\n",
       " 'we',\n",
       " 'hope',\n",
       " 'will',\n",
       " 'keep',\n",
       " 'project',\n",
       " 'gutenberg',\n",
       " 'going',\n",
       " 'long',\n",
       " 'enough',\n",
       " 'to',\n",
       " 'post',\n",
       " '10,000',\n",
       " 'books,',\n",
       " 'plays,',\n",
       " 'musical',\n",
       " 'pieces,',\n",
       " 'etc',\n",
       " '',\n",
       " '',\n",
       " '',\n",
       " '***start**the',\n",
       " 'small',\n",
       " 'print!**for',\n",
       " 'public',\n",
       " 'domain',\n",
       " 'etexts**start***',\n",
       " 'why',\n",
       " 'is',\n",
       " 'this',\n",
       " '\"small',\n",
       " 'print!\"',\n",
       " 'statement',\n",
       " 'here?',\n",
       " '',\n",
       " 'you',\n",
       " 'know:',\n",
       " 'lawyers',\n",
       " 'they',\n",
       " 'tell',\n",
       " 'us',\n",
       " 'you',\n",
       " 'might',\n",
       " 'sue',\n",
       " 'us',\n",
       " 'if',\n",
       " 'there',\n",
       " 'is',\n",
       " 'something',\n",
       " 'wrong',\n",
       " 'with',\n",
       " 'your',\n",
       " 'copy',\n",
       " 'of',\n",
       " 'this',\n",
       " 'etext,',\n",
       " 'even',\n",
       " 'if',\n",
       " 'you',\n",
       " 'got',\n",
       " 'it',\n",
       " 'for',\n",
       " 'free',\n",
       " 'from',\n",
       " 'someone',\n",
       " 'other',\n",
       " 'than',\n",
       " 'us,',\n",
       " 'and',\n",
       " 'even',\n",
       " 'if',\n",
       " \"what's\",\n",
       " 'wrong',\n",
       " 'is',\n",
       " 'not',\n",
       " 'our',\n",
       " 'fault.',\n",
       " '',\n",
       " 'so,',\n",
       " 'among',\n",
       " 'other',\n",
       " 'things,',\n",
       " 'this',\n",
       " '\"small',\n",
       " 'print!\"',\n",
       " 'statement',\n",
       " 'disclaims',\n",
       " 'most',\n",
       " 'of',\n",
       " 'our',\n",
       " 'liability',\n",
       " 'to',\n",
       " 'you.',\n",
       " '',\n",
       " 'it',\n",
       " 'also',\n",
       " 'tells',\n",
       " 'you',\n",
       " 'how',\n",
       " 'you',\n",
       " 'can',\n",
       " 'distribute',\n",
       " 'copies',\n",
       " 'of',\n",
       " 'this',\n",
       " 'etext',\n",
       " 'if',\n",
       " 'you',\n",
       " 'want',\n",
       " 'to',\n",
       " '',\n",
       " '*before!*',\n",
       " 'you',\n",
       " 'use',\n",
       " 'or',\n",
       " 'read',\n",
       " 'this',\n",
       " 'etext',\n",
       " 'by',\n",
       " 'using',\n",
       " 'or',\n",
       " 'reading',\n",
       " 'any',\n",
       " 'part',\n",
       " 'of',\n",
       " 'this',\n",
       " 'project',\n",
       " 'gutenberg-tm',\n",
       " 'etext,',\n",
       " 'you',\n",
       " 'indicate',\n",
       " 'that',\n",
       " 'you',\n",
       " 'understand,',\n",
       " 'agree',\n",
       " 'to',\n",
       " 'and',\n",
       " 'accept',\n",
       " 'this',\n",
       " '\"small',\n",
       " 'print!\"',\n",
       " 'statement.',\n",
       " '',\n",
       " 'if',\n",
       " 'you',\n",
       " 'do',\n",
       " 'not,',\n",
       " 'you',\n",
       " 'can',\n",
       " 'receive',\n",
       " 'a',\n",
       " 'refund',\n",
       " 'of',\n",
       " 'the',\n",
       " 'money',\n",
       " '(if',\n",
       " 'any)',\n",
       " 'you',\n",
       " 'paid',\n",
       " 'for',\n",
       " 'this',\n",
       " 'etext',\n",
       " 'by',\n",
       " 'sending',\n",
       " 'a',\n",
       " 'request',\n",
       " 'within',\n",
       " '30',\n",
       " 'days',\n",
       " 'of',\n",
       " 'receiving',\n",
       " 'it',\n",
       " 'to',\n",
       " 'the',\n",
       " 'person',\n",
       " 'you',\n",
       " 'got',\n",
       " 'it',\n",
       " 'from.',\n",
       " '',\n",
       " 'if',\n",
       " 'you',\n",
       " 'received',\n",
       " 'this',\n",
       " 'etext',\n",
       " 'on',\n",
       " 'a',\n",
       " 'physical',\n",
       " 'medium',\n",
       " '(such',\n",
       " 'as',\n",
       " 'a',\n",
       " 'disk),',\n",
       " 'you',\n",
       " 'must',\n",
       " 'return',\n",
       " 'it',\n",
       " 'with',\n",
       " 'your',\n",
       " 'request',\n",
       " '',\n",
       " 'about',\n",
       " 'project',\n",
       " 'gutenberg-tm',\n",
       " 'etexts',\n",
       " 'this',\n",
       " 'project',\n",
       " 'gutenberg-tm',\n",
       " 'etext,',\n",
       " 'like',\n",
       " 'most',\n",
       " 'project',\n",
       " 'gutenberg',\n",
       " 'tm',\n",
       " 'etexts,',\n",
       " 'is',\n",
       " 'a',\n",
       " '\"public',\n",
       " 'domain\"',\n",
       " 'work',\n",
       " 'distributed',\n",
       " 'by',\n",
       " 'professor',\n",
       " 'michael',\n",
       " 's.',\n",
       " 'hart',\n",
       " 'through',\n",
       " 'the',\n",
       " 'project',\n",
       " 'gutenberg',\n",
       " 'association',\n",
       " 'at',\n",
       " 'illinois',\n",
       " 'benedictine',\n",
       " 'college',\n",
       " '(the',\n",
       " '\"project\").',\n",
       " '',\n",
       " 'among',\n",
       " 'other',\n",
       " 'things,',\n",
       " 'this',\n",
       " 'means',\n",
       " 'that',\n",
       " 'no',\n",
       " 'one',\n",
       " 'owns',\n",
       " 'a',\n",
       " 'united',\n",
       " 'states',\n",
       " 'copyright',\n",
       " 'on',\n",
       " 'or',\n",
       " 'for',\n",
       " 'this',\n",
       " 'work,',\n",
       " 'so',\n",
       " 'the',\n",
       " 'project',\n",
       " '(and',\n",
       " 'you!)',\n",
       " 'can',\n",
       " 'copy',\n",
       " 'and',\n",
       " 'distribute',\n",
       " 'it',\n",
       " 'in',\n",
       " 'the',\n",
       " 'united',\n",
       " 'states',\n",
       " 'without',\n",
       " 'permission',\n",
       " 'and',\n",
       " 'without',\n",
       " 'paying',\n",
       " 'copyright',\n",
       " 'royalties.',\n",
       " '',\n",
       " 'special',\n",
       " 'rules,',\n",
       " 'set',\n",
       " 'forth',\n",
       " 'below,',\n",
       " 'apply',\n",
       " 'if',\n",
       " 'you',\n",
       " 'wish',\n",
       " 'to',\n",
       " 'copy',\n",
       " 'and',\n",
       " 'distribute',\n",
       " 'this',\n",
       " 'etext',\n",
       " 'under',\n",
       " 'the',\n",
       " \"project's\",\n",
       " '\"project',\n",
       " 'gutenberg\"',\n",
       " 'trademark',\n",
       " '',\n",
       " 'to',\n",
       " 'create',\n",
       " 'these',\n",
       " 'etexts,',\n",
       " 'the',\n",
       " 'project',\n",
       " 'expends',\n",
       " 'considerable',\n",
       " 'efforts',\n",
       " 'to',\n",
       " 'identify,',\n",
       " 'transcribe',\n",
       " 'and',\n",
       " 'proofread',\n",
       " 'public',\n",
       " 'domain',\n",
       " 'works.',\n",
       " '',\n",
       " 'despite',\n",
       " 'these',\n",
       " 'efforts,',\n",
       " 'the',\n",
       " \"project's\",\n",
       " 'etexts',\n",
       " 'and',\n",
       " 'any',\n",
       " 'medium',\n",
       " 'they',\n",
       " 'may',\n",
       " 'be',\n",
       " 'on',\n",
       " 'may',\n",
       " 'contain',\n",
       " '\"defects\".',\n",
       " '',\n",
       " 'among',\n",
       " 'other',\n",
       " 'things,',\n",
       " 'defects',\n",
       " 'may',\n",
       " 'take',\n",
       " 'the',\n",
       " 'form',\n",
       " 'of',\n",
       " 'incomplete,',\n",
       " 'inaccurate',\n",
       " 'or',\n",
       " 'corrupt',\n",
       " 'data,',\n",
       " 'transcription',\n",
       " 'errors,',\n",
       " 'a',\n",
       " 'copyright',\n",
       " 'or',\n",
       " 'other',\n",
       " 'intellectual',\n",
       " 'property',\n",
       " 'infringement,',\n",
       " 'a',\n",
       " 'defective',\n",
       " 'or',\n",
       " 'damaged',\n",
       " 'disk',\n",
       " 'or',\n",
       " 'other',\n",
       " 'etext',\n",
       " 'medium,',\n",
       " 'a',\n",
       " 'computer',\n",
       " 'virus,',\n",
       " 'or',\n",
       " 'computer',\n",
       " 'codes',\n",
       " 'that',\n",
       " 'damage',\n",
       " 'or',\n",
       " 'cannot',\n",
       " 'be',\n",
       " 'read',\n",
       " 'by',\n",
       " 'your',\n",
       " 'equipment',\n",
       " '',\n",
       " 'limited',\n",
       " 'warranty;',\n",
       " 'disclaimer',\n",
       " 'of',\n",
       " 'damages',\n",
       " 'but',\n",
       " 'for',\n",
       " 'the',\n",
       " '\"right',\n",
       " 'of',\n",
       " 'replacement',\n",
       " 'or',\n",
       " 'refund\"',\n",
       " 'described',\n",
       " 'below',\n",
       " '[1]',\n",
       " 'the',\n",
       " 'project',\n",
       " '(and',\n",
       " 'any',\n",
       " 'other',\n",
       " 'party',\n",
       " 'you',\n",
       " 'may',\n",
       " 'receive',\n",
       " 'this',\n",
       " 'etext',\n",
       " 'from',\n",
       " 'as',\n",
       " 'a',\n",
       " 'project',\n",
       " 'gutenberg-tm',\n",
       " 'etext)',\n",
       " 'disclaims',\n",
       " 'all',\n",
       " 'liability',\n",
       " 'to',\n",
       " 'you',\n",
       " 'for',\n",
       " 'damages,',\n",
       " 'costs',\n",
       " 'and',\n",
       " 'expenses,',\n",
       " 'including',\n",
       " 'legal',\n",
       " 'fees,',\n",
       " 'and',\n",
       " '[2]',\n",
       " 'you',\n",
       " 'have',\n",
       " 'no',\n",
       " 'remedies',\n",
       " 'for',\n",
       " 'negligence',\n",
       " 'or',\n",
       " 'under',\n",
       " 'strict',\n",
       " 'liability,',\n",
       " 'or',\n",
       " 'for',\n",
       " 'breach',\n",
       " 'of',\n",
       " 'warranty',\n",
       " 'or',\n",
       " 'contract',\n",
       " 'including',\n",
       " 'but',\n",
       " 'not',\n",
       " 'limited',\n",
       " 'to',\n",
       " 'indirect,',\n",
       " 'consequential,',\n",
       " 'punitive',\n",
       " 'or',\n",
       " 'incidental',\n",
       " 'damages,',\n",
       " 'even',\n",
       " 'if',\n",
       " 'you',\n",
       " 'give',\n",
       " 'notice',\n",
       " 'of',\n",
       " 'the',\n",
       " 'possibility',\n",
       " 'of',\n",
       " 'such',\n",
       " 'damages',\n",
       " '',\n",
       " 'if',\n",
       " 'you',\n",
       " 'discover',\n",
       " 'a',\n",
       " 'defect',\n",
       " 'in',\n",
       " 'this',\n",
       " 'etext',\n",
       " 'within',\n",
       " '90',\n",
       " 'days',\n",
       " 'of',\n",
       " 'receiving',\n",
       " 'it,',\n",
       " 'you',\n",
       " 'can',\n",
       " 'receive',\n",
       " 'a',\n",
       " 'refund',\n",
       " 'of',\n",
       " 'the',\n",
       " 'money',\n",
       " '(if',\n",
       " 'any)',\n",
       " 'you',\n",
       " 'paid',\n",
       " 'for',\n",
       " 'it',\n",
       " 'by',\n",
       " 'sending',\n",
       " 'an',\n",
       " 'explanatory',\n",
       " 'note',\n",
       " 'within',\n",
       " 'that',\n",
       " 'time',\n",
       " 'to',\n",
       " 'the',\n",
       " 'person',\n",
       " 'you',\n",
       " 'received',\n",
       " 'it',\n",
       " 'from.',\n",
       " '',\n",
       " 'if',\n",
       " 'you',\n",
       " 'received',\n",
       " 'it',\n",
       " 'on',\n",
       " 'a',\n",
       " 'physical',\n",
       " 'medium,',\n",
       " 'you',\n",
       " 'must',\n",
       " 'return',\n",
       " 'it',\n",
       " 'with',\n",
       " 'your',\n",
       " 'note,',\n",
       " 'and',\n",
       " 'such',\n",
       " 'person',\n",
       " 'may',\n",
       " 'choose',\n",
       " 'to',\n",
       " 'alternatively',\n",
       " 'give',\n",
       " 'you',\n",
       " 'a',\n",
       " 'replacement',\n",
       " 'copy.',\n",
       " '',\n",
       " 'if',\n",
       " 'you',\n",
       " 'received',\n",
       " 'it',\n",
       " 'electronically,',\n",
       " 'such',\n",
       " 'person',\n",
       " 'may',\n",
       " 'choose',\n",
       " 'to',\n",
       " 'alternatively',\n",
       " 'give',\n",
       " 'you',\n",
       " 'a',\n",
       " 'second',\n",
       " 'opportunity',\n",
       " 'to',\n",
       " 'receive',\n",
       " 'it',\n",
       " 'electronically',\n",
       " '',\n",
       " 'this',\n",
       " 'etext',\n",
       " 'is',\n",
       " 'otherwise',\n",
       " 'provided',\n",
       " 'to',\n",
       " 'you',\n",
       " '\"as-is\".',\n",
       " '',\n",
       " 'no',\n",
       " 'other',\n",
       " 'warranties',\n",
       " 'of',\n",
       " 'any',\n",
       " 'kind,',\n",
       " 'express',\n",
       " 'or',\n",
       " 'implied,',\n",
       " 'are',\n",
       " 'made',\n",
       " 'to',\n",
       " 'you',\n",
       " 'as',\n",
       " 'to',\n",
       " 'the',\n",
       " 'etext',\n",
       " 'or',\n",
       " 'any',\n",
       " 'medium',\n",
       " 'it',\n",
       " 'may',\n",
       " 'be',\n",
       " 'on,',\n",
       " 'including',\n",
       " 'but',\n",
       " 'not',\n",
       " 'limited',\n",
       " 'to',\n",
       " 'warranties',\n",
       " 'of',\n",
       " 'merchantability',\n",
       " 'or',\n",
       " 'fitness',\n",
       " 'for',\n",
       " 'a',\n",
       " 'particular',\n",
       " 'purpose',\n",
       " '',\n",
       " 'some',\n",
       " 'states',\n",
       " 'do',\n",
       " 'not',\n",
       " 'allow',\n",
       " 'disclaimers',\n",
       " 'of',\n",
       " 'implied',\n",
       " 'warranties',\n",
       " 'or',\n",
       " 'the',\n",
       " 'exclusion',\n",
       " 'or',\n",
       " 'limitation',\n",
       " 'of',\n",
       " 'consequential',\n",
       " 'damages,',\n",
       " 'so',\n",
       " 'the',\n",
       " 'above',\n",
       " 'disclaimers',\n",
       " 'and',\n",
       " 'exclusions',\n",
       " 'may',\n",
       " 'not',\n",
       " 'apply',\n",
       " 'to',\n",
       " 'you,',\n",
       " 'and',\n",
       " 'you',\n",
       " 'may',\n",
       " 'have',\n",
       " 'other',\n",
       " 'legal',\n",
       " 'rights',\n",
       " '',\n",
       " 'indemnity',\n",
       " 'you',\n",
       " 'will',\n",
       " 'indemnify',\n",
       " 'and',\n",
       " 'hold',\n",
       " 'the',\n",
       " 'project,',\n",
       " 'its',\n",
       " 'directors',\n",
       " 'officers,',\n",
       " 'members',\n",
       " 'and',\n",
       " 'agents',\n",
       " 'harmless',\n",
       " 'from',\n",
       " 'all',\n",
       " 'liability,',\n",
       " 'cost',\n",
       " 'and',\n",
       " 'expense,',\n",
       " 'including',\n",
       " 'legal',\n",
       " 'fees,',\n",
       " 'that',\n",
       " 'arise',\n",
       " 'directly',\n",
       " 'or',\n",
       " 'indirectly',\n",
       " 'from',\n",
       " 'any',\n",
       " 'of',\n",
       " 'the',\n",
       " 'following',\n",
       " 'that',\n",
       " 'you',\n",
       " 'do',\n",
       " 'or',\n",
       " 'cause',\n",
       " '[1]',\n",
       " 'distribution',\n",
       " 'of',\n",
       " 'this',\n",
       " 'etext,',\n",
       " '[2]',\n",
       " 'alteration,',\n",
       " 'modification',\n",
       " 'or',\n",
       " 'addition',\n",
       " 'to',\n",
       " 'the',\n",
       " 'etext,',\n",
       " 'or',\n",
       " '[3]',\n",
       " 'any',\n",
       " 'defect',\n",
       " '',\n",
       " 'distribution',\n",
       " 'under',\n",
       " '\"project',\n",
       " 'gutenberg-tm',\n",
       " 'you',\n",
       " 'may',\n",
       " 'distribute',\n",
       " 'copies',\n",
       " 'of',\n",
       " 'this',\n",
       " 'etext',\n",
       " 'electronically,',\n",
       " 'or',\n",
       " 'by',\n",
       " 'disk,',\n",
       " 'book',\n",
       " 'or',\n",
       " 'any',\n",
       " 'other',\n",
       " 'medium',\n",
       " 'if',\n",
       " 'you',\n",
       " 'either',\n",
       " 'delete',\n",
       " 'this',\n",
       " 'small',\n",
       " 'print!\"',\n",
       " 'and',\n",
       " 'all',\n",
       " 'other',\n",
       " 'references',\n",
       " 'to',\n",
       " 'project',\n",
       " 'gutenberg',\n",
       " 'or',\n",
       " '',\n",
       " '[1]',\n",
       " '',\n",
       " 'only',\n",
       " 'give',\n",
       " 'exact',\n",
       " 'copies',\n",
       " 'of',\n",
       " 'it.',\n",
       " '',\n",
       " 'among',\n",
       " 'other',\n",
       " 'things,',\n",
       " 'this',\n",
       " 'requires',\n",
       " 'that',\n",
       " 'you',\n",
       " 'do',\n",
       " 'not',\n",
       " 'remove,',\n",
       " 'alter',\n",
       " 'or',\n",
       " 'modify',\n",
       " 'the',\n",
       " 'etext',\n",
       " 'or',\n",
       " 'this',\n",
       " ...]"
      ]
     },
     "execution_count": 93,
     "metadata": {},
     "output_type": "execute_result"
    }
   ],
   "source": [
    "list(b.flatten()) # concatenate nested lists into one long list"
   ]
  },
  {
   "cell_type": "markdown",
   "metadata": {},
   "source": [
    "Important to note, that within dask, you will often see npartitions.  The npartitions property is the number of dask piecemeal objects (bag, array, dataframes) that compose a single Dask object (so npartitions = 10, would split a dask object into 10 bins for parallel computation"
   ]
  },
  {
   "cell_type": "code",
   "execution_count": 48,
   "metadata": {
    "ExecuteTime": {
     "end_time": "2018-03-14T21:16:58.643408Z",
     "start_time": "2018-03-14T21:16:58.639793Z"
    }
   },
   "outputs": [],
   "source": [
    "import dask.bag as db"
   ]
  },
  {
   "cell_type": "code",
   "execution_count": 49,
   "metadata": {
    "ExecuteTime": {
     "end_time": "2018-03-14T21:17:30.740836Z",
     "start_time": "2018-03-14T21:17:30.737012Z"
    }
   },
   "outputs": [],
   "source": [
    "b = db.from_sequence([{'name': 'Alice',   'balance': 100},\n",
    "                      {'name': 'Bob',     'balance': 200},\n",
    "                      {'name': 'Charlie', 'balance': 300}])"
   ]
  },
  {
   "cell_type": "code",
   "execution_count": 50,
   "metadata": {
    "ExecuteTime": {
     "end_time": "2018-03-14T21:17:41.326200Z",
     "start_time": "2018-03-14T21:17:40.007289Z"
    }
   },
   "outputs": [],
   "source": [
    "df = b.to_dataframe()"
   ]
  },
  {
   "cell_type": "code",
   "execution_count": 52,
   "metadata": {
    "ExecuteTime": {
     "end_time": "2018-03-14T21:17:57.014193Z",
     "start_time": "2018-03-14T21:17:56.982787Z"
    }
   },
   "outputs": [
    {
     "data": {
      "text/html": [
       "<div>\n",
       "<style scoped>\n",
       "    .dataframe tbody tr th:only-of-type {\n",
       "        vertical-align: middle;\n",
       "    }\n",
       "\n",
       "    .dataframe tbody tr th {\n",
       "        vertical-align: top;\n",
       "    }\n",
       "\n",
       "    .dataframe thead th {\n",
       "        text-align: right;\n",
       "    }\n",
       "</style>\n",
       "<table border=\"1\" class=\"dataframe\">\n",
       "  <thead>\n",
       "    <tr style=\"text-align: right;\">\n",
       "      <th></th>\n",
       "      <th>balance</th>\n",
       "      <th>name</th>\n",
       "    </tr>\n",
       "  </thead>\n",
       "  <tbody>\n",
       "    <tr>\n",
       "      <th>0</th>\n",
       "      <td>100</td>\n",
       "      <td>Alice</td>\n",
       "    </tr>\n",
       "    <tr>\n",
       "      <th>0</th>\n",
       "      <td>200</td>\n",
       "      <td>Bob</td>\n",
       "    </tr>\n",
       "    <tr>\n",
       "      <th>0</th>\n",
       "      <td>300</td>\n",
       "      <td>Charlie</td>\n",
       "    </tr>\n",
       "  </tbody>\n",
       "</table>\n",
       "</div>"
      ],
      "text/plain": [
       "   balance     name\n",
       "0      100    Alice\n",
       "0      200      Bob\n",
       "0      300  Charlie"
      ]
     },
     "execution_count": 52,
     "metadata": {},
     "output_type": "execute_result"
    }
   ],
   "source": [
    "df.compute()"
   ]
  },
  {
   "cell_type": "code",
   "execution_count": 55,
   "metadata": {
    "ExecuteTime": {
     "end_time": "2018-03-14T21:23:21.410232Z",
     "start_time": "2018-03-14T21:23:21.407436Z"
    }
   },
   "outputs": [],
   "source": [
    "b = db.from_sequence(range(5))"
   ]
  },
  {
   "cell_type": "code",
   "execution_count": 56,
   "metadata": {
    "ExecuteTime": {
     "end_time": "2018-03-14T21:23:34.699461Z",
     "start_time": "2018-03-14T21:23:34.645528Z"
    }
   },
   "outputs": [
    {
     "data": {
      "text/plain": [
       "[0, 1, 2, 3, 4]"
      ]
     },
     "execution_count": 56,
     "metadata": {},
     "output_type": "execute_result"
    }
   ],
   "source": [
    "b.compute()"
   ]
  },
  {
   "cell_type": "code",
   "execution_count": null,
   "metadata": {},
   "outputs": [],
   "source": []
  },
  {
   "cell_type": "code",
   "execution_count": 60,
   "metadata": {
    "ExecuteTime": {
     "end_time": "2018-03-14T21:24:26.358427Z",
     "start_time": "2018-03-14T21:24:26.352589Z"
    }
   },
   "outputs": [],
   "source": [
    "b = b.filter(lambda x: x % 2 == 0).map(lambda x: x ** 2)"
   ]
  },
  {
   "cell_type": "code",
   "execution_count": 61,
   "metadata": {
    "ExecuteTime": {
     "end_time": "2018-03-14T21:24:31.101351Z",
     "start_time": "2018-03-14T21:24:31.039343Z"
    }
   },
   "outputs": [
    {
     "data": {
      "text/plain": [
       "[0, 4, 16]"
      ]
     },
     "execution_count": 61,
     "metadata": {},
     "output_type": "execute_result"
    }
   ],
   "source": [
    "list(b)"
   ]
  },
  {
   "cell_type": "code",
   "execution_count": 74,
   "metadata": {
    "ExecuteTime": {
     "end_time": "2018-03-14T21:29:36.714440Z",
     "start_time": "2018-03-14T21:29:36.711386Z"
    }
   },
   "outputs": [],
   "source": [
    "from operator import add\n",
    "b = db.from_sequence([1, 2, 3, 4, 5], npartitions=2)"
   ]
  },
  {
   "cell_type": "code",
   "execution_count": 75,
   "metadata": {
    "ExecuteTime": {
     "end_time": "2018-03-14T21:29:37.070814Z",
     "start_time": "2018-03-14T21:29:37.014717Z"
    }
   },
   "outputs": [
    {
     "data": {
      "text/plain": [
       "[1, 3, 6, 10, 15]"
      ]
     },
     "execution_count": 75,
     "metadata": {},
     "output_type": "execute_result"
    }
   ],
   "source": [
    "b.accumulate(add).compute()"
   ]
  },
  {
   "cell_type": "code",
   "execution_count": 77,
   "metadata": {
    "ExecuteTime": {
     "end_time": "2018-03-14T21:29:42.659380Z",
     "start_time": "2018-03-14T21:29:42.602614Z"
    }
   },
   "outputs": [
    {
     "data": {
      "text/plain": [
       "[-1, 0, 2, 5, 9, 14]"
      ]
     },
     "execution_count": 77,
     "metadata": {},
     "output_type": "execute_result"
    }
   ],
   "source": [
    "b.accumulate(add, initial=-1).compute()"
   ]
  },
  {
   "cell_type": "code",
   "execution_count": 82,
   "metadata": {
    "ExecuteTime": {
     "end_time": "2018-03-14T21:30:35.885017Z",
     "start_time": "2018-03-14T21:30:35.823323Z"
    }
   },
   "outputs": [
    {
     "data": {
      "text/plain": [
       "5"
      ]
     },
     "execution_count": 82,
     "metadata": {},
     "output_type": "execute_result"
    }
   ],
   "source": [
    "b.count().compute() # count is len, count number of elements in a collection"
   ]
  },
  {
   "cell_type": "code",
   "execution_count": 84,
   "metadata": {
    "ExecuteTime": {
     "end_time": "2018-03-14T21:32:06.824114Z",
     "start_time": "2018-03-14T21:32:06.753121Z"
    }
   },
   "outputs": [
    {
     "data": {
      "text/plain": [
       "[1, 2, 3, 4, 5, 6]"
      ]
     },
     "execution_count": 84,
     "metadata": {},
     "output_type": "execute_result"
    }
   ],
   "source": [
    "b = db.from_sequence([1, 2, 3, 4, 5, 3, 4, 5, 6, 1, 2, 3, 4])\n",
    "sorted(b.distinct()) # distinct elements of a collection, unordered, without repeats"
   ]
  },
  {
   "cell_type": "code",
   "execution_count": 89,
   "metadata": {
    "ExecuteTime": {
     "end_time": "2018-03-14T21:33:47.828949Z",
     "start_time": "2018-03-14T21:33:47.824030Z"
    }
   },
   "outputs": [],
   "source": [
    "def iseven(x):\n",
    "    return x % 2 == 0\n",
    "def isodd(x):\n",
    "    return x % 2 != 0"
   ]
  },
  {
   "cell_type": "code",
   "execution_count": 88,
   "metadata": {
    "ExecuteTime": {
     "end_time": "2018-03-14T21:33:20.147862Z",
     "start_time": "2018-03-14T21:33:20.079382Z"
    }
   },
   "outputs": [
    {
     "data": {
      "text/plain": [
       "[0, 2, 4, 6, 8]"
      ]
     },
     "execution_count": 88,
     "metadata": {},
     "output_type": "execute_result"
    }
   ],
   "source": [
    "b = db.from_sequence(range(10))\n",
    "list(b.filter(iseven)) # filter elements in a collection by a predicate function"
   ]
  },
  {
   "cell_type": "code",
   "execution_count": 90,
   "metadata": {
    "ExecuteTime": {
     "end_time": "2018-03-14T21:33:55.486032Z",
     "start_time": "2018-03-14T21:33:55.422963Z"
    }
   },
   "outputs": [
    {
     "data": {
      "text/plain": [
       "[1, 3, 5, 7, 9]"
      ]
     },
     "execution_count": 90,
     "metadata": {},
     "output_type": "execute_result"
    }
   ],
   "source": [
    "b = db.from_sequence(range(10))\n",
    "list(b.filter(isodd)) # filter elements in a collection by a predicate function"
   ]
  },
  {
   "cell_type": "markdown",
   "metadata": {},
   "source": [
    "`Fold` is like the builtin function reduce except that it works in parallel. Fold takes two binary operator functions, one to reduce each partition of our dataset and another to combine results between partitions  \n",
    "\n",
    "`binop`: Binary operator to reduce within each partition  \n",
    "`combine`: Binary operator to combine results from binop"
   ]
  },
  {
   "cell_type": "code",
   "execution_count": 95,
   "metadata": {
    "ExecuteTime": {
     "end_time": "2018-03-14T21:36:43.608481Z",
     "start_time": "2018-03-14T21:36:43.605511Z"
    }
   },
   "outputs": [],
   "source": [
    "def add(x, y):\n",
    "    return x + y"
   ]
  },
  {
   "cell_type": "code",
   "execution_count": 97,
   "metadata": {
    "ExecuteTime": {
     "end_time": "2018-03-14T21:37:23.663660Z",
     "start_time": "2018-03-14T21:37:23.659011Z"
    }
   },
   "outputs": [],
   "source": [
    "def multiply(x, y):\n",
    "    return x * y"
   ]
  },
  {
   "cell_type": "code",
   "execution_count": 107,
   "metadata": {
    "ExecuteTime": {
     "end_time": "2018-03-14T21:40:41.153584Z",
     "start_time": "2018-03-14T21:40:41.074084Z"
    }
   },
   "outputs": [
    {
     "data": {
      "text/plain": [
       "45"
      ]
     },
     "execution_count": 107,
     "metadata": {},
     "output_type": "execute_result"
    }
   ],
   "source": [
    "b = db.from_sequence(range(10))\n",
    "b.fold(add).compute()"
   ]
  },
  {
   "cell_type": "code",
   "execution_count": 105,
   "metadata": {
    "ExecuteTime": {
     "end_time": "2018-03-14T21:40:03.407492Z",
     "start_time": "2018-03-14T21:40:03.256349Z"
    }
   },
   "outputs": [
    {
     "data": {
      "text/plain": [
       "933262154439441526816992388562667004907159682643816214685929638952175999932299156089414639761565182862536979208272237582511852109168640000000000000000000000"
      ]
     },
     "execution_count": 105,
     "metadata": {},
     "output_type": "execute_result"
    }
   ],
   "source": [
    "b = db.from_sequence(range(1, 100))\n",
    "b.fold(multiply).compute() # if only one function is given, then it is used for both functions binop and combine"
   ]
  },
  {
   "cell_type": "code",
   "execution_count": 112,
   "metadata": {
    "ExecuteTime": {
     "end_time": "2018-03-14T21:41:25.915174Z",
     "start_time": "2018-03-14T21:41:25.838129Z"
    }
   },
   "outputs": [
    {
     "data": {
      "text/plain": [
       "45"
      ]
     },
     "execution_count": 112,
     "metadata": {},
     "output_type": "execute_result"
    }
   ],
   "source": [
    "b.fold(binop=add, combine=add, initial=0).compute()"
   ]
  },
  {
   "cell_type": "markdown",
   "metadata": {},
   "source": [
    "`foldby` : combining reduction and groupby - parallel split-apply-combine\n",
    "```python\n",
    "b.foldby(key, binop, init)\n",
    "\n",
    "is equal to\n",
    "\n",
    "def reduction(group):\n",
    "    retrun reduce(binop, group, init)\n",
    "\n",
    "b.groupby(key).map(lambda (k, v): (k, reduction(v)))\n",
    "```"
   ]
  },
  {
   "cell_type": "code",
   "execution_count": 113,
   "metadata": {
    "ExecuteTime": {
     "end_time": "2018-03-14T21:45:17.691735Z",
     "start_time": "2018-03-14T21:45:17.617394Z"
    }
   },
   "outputs": [
    {
     "data": {
      "text/plain": [
       "{False: 25, True: 20}"
      ]
     },
     "execution_count": 113,
     "metadata": {},
     "output_type": "execute_result"
    }
   ],
   "source": [
    "b = db.from_sequence(range(10))\n",
    "iseven = lambda x: x % 2 == 0\n",
    "add = lambda x, y: x + y\n",
    "dict(b.foldby(iseven, add))"
   ]
  },
  {
   "cell_type": "code",
   "execution_count": 119,
   "metadata": {
    "ExecuteTime": {
     "end_time": "2018-03-14T21:48:50.515451Z",
     "start_time": "2018-03-14T21:48:50.510693Z"
    }
   },
   "outputs": [],
   "source": [
    "b = db.from_sequence(sentence.lower().split(' '))"
   ]
  },
  {
   "cell_type": "code",
   "execution_count": 121,
   "metadata": {
    "ExecuteTime": {
     "end_time": "2018-03-14T21:49:10.752369Z",
     "start_time": "2018-03-14T21:49:10.674786Z"
    }
   },
   "outputs": [
    {
     "data": {
      "text/plain": [
       "{'brown': 1,\n",
       " 'dog!': 1,\n",
       " 'fox': 1,\n",
       " 'jumped': 1,\n",
       " 'lazy': 1,\n",
       " 'over': 1,\n",
       " 'quick': 1,\n",
       " 'the': 2}"
      ]
     },
     "execution_count": 121,
     "metadata": {},
     "output_type": "execute_result"
    }
   ],
   "source": [
    "dict(b.frequencies()) # count number of occurences of each distinct element"
   ]
  },
  {
   "cell_type": "markdown",
   "metadata": {},
   "source": [
    "`Groupby` grouping collection by key function, where grouper is the function, method is str, npartitions is int, blocksize is int, max_branch is int"
   ]
  },
  {
   "cell_type": "code",
   "execution_count": 127,
   "metadata": {
    "ExecuteTime": {
     "end_time": "2018-03-14T21:51:28.988604Z",
     "start_time": "2018-03-14T21:51:28.770295Z"
    }
   },
   "outputs": [
    {
     "data": {
      "text/plain": [
       "{False: [9, 7, 5, 3, 1], True: [4, 6, 2, 8, 0]}"
      ]
     },
     "execution_count": 127,
     "metadata": {},
     "output_type": "execute_result"
    }
   ],
   "source": [
    "b = db.from_sequence(range(10))\n",
    "iseven = lambda x: x % 2 == 0\n",
    "dict(b.groupby(iseven))"
   ]
  },
  {
   "cell_type": "markdown",
   "metadata": {},
   "source": [
    "`join` joining collection with another collection, other collection must be an iterable and not a bag  \n",
    "`join(other, on_self, on_other=None)`"
   ]
  },
  {
   "cell_type": "code",
   "execution_count": 129,
   "metadata": {
    "ExecuteTime": {
     "end_time": "2018-03-14T21:53:01.432031Z",
     "start_time": "2018-03-14T21:53:01.369257Z"
    }
   },
   "outputs": [
    {
     "data": {
      "text/plain": [
       "[('Apple', 'Alice'), ('Apricot', 'Alice'), ('Banana', 'Bob')]"
      ]
     },
     "execution_count": 129,
     "metadata": {},
     "output_type": "execute_result"
    }
   ],
   "source": [
    "people = db.from_sequence(['Alice', 'Bob', 'Charlie'])\n",
    "fruit = ['Apple', 'Apricot', 'Banana']\n",
    "list(people.join(fruit, lambda x: x[0]))"
   ]
  },
  {
   "cell_type": "markdown",
   "metadata": {},
   "source": [
    "`map` apply a function elementwise across one or more bags.  Note, all Bag arguments must be partitioned identically.  Takes a callable `func` and `*args`, `**kwargs` which are the extra arguments to pass to `func` after the calling bag instance.  Non-bag args/kwargs are broadcast across all calls"
   ]
  },
  {
   "cell_type": "code",
   "execution_count": 130,
   "metadata": {
    "ExecuteTime": {
     "end_time": "2018-03-14T21:55:22.203057Z",
     "start_time": "2018-03-14T21:55:22.197703Z"
    }
   },
   "outputs": [],
   "source": [
    "b = db.from_sequence(range(5), npartitions=2)\n",
    "b2 = db.from_sequence(range(5, 10), npartitions=2)"
   ]
  },
  {
   "cell_type": "code",
   "execution_count": 131,
   "metadata": {
    "ExecuteTime": {
     "end_time": "2018-03-14T21:55:37.915722Z",
     "start_time": "2018-03-14T21:55:37.856228Z"
    }
   },
   "outputs": [
    {
     "data": {
      "text/plain": [
       "[1, 2, 3, 4, 5]"
      ]
     },
     "execution_count": 131,
     "metadata": {},
     "output_type": "execute_result"
    }
   ],
   "source": [
    "b.map(lambda x: x + 1).compute()"
   ]
  },
  {
   "cell_type": "code",
   "execution_count": 132,
   "metadata": {
    "ExecuteTime": {
     "end_time": "2018-03-14T21:55:47.898189Z",
     "start_time": "2018-03-14T21:55:47.839855Z"
    }
   },
   "outputs": [
    {
     "data": {
      "text/plain": [
       "[5, 7, 9, 11, 13]"
      ]
     },
     "execution_count": 132,
     "metadata": {},
     "output_type": "execute_result"
    }
   ],
   "source": [
    "b.map(add, b2).compute()"
   ]
  },
  {
   "cell_type": "code",
   "execution_count": 133,
   "metadata": {
    "ExecuteTime": {
     "end_time": "2018-03-14T21:56:26.104256Z",
     "start_time": "2018-03-14T21:56:26.044652Z"
    }
   },
   "outputs": [
    {
     "data": {
      "text/plain": [
       "[1, 2, 3, 4, 5]"
      ]
     },
     "execution_count": 133,
     "metadata": {},
     "output_type": "execute_result"
    }
   ],
   "source": [
    "b.map(add, 1).compute()"
   ]
  },
  {
   "cell_type": "code",
   "execution_count": 134,
   "metadata": {
    "ExecuteTime": {
     "end_time": "2018-03-14T21:56:46.622490Z",
     "start_time": "2018-03-14T21:56:46.562965Z"
    }
   },
   "outputs": [
    {
     "data": {
      "text/plain": [
       "[5, 7, 9, 11, 13]"
      ]
     },
     "execution_count": 134,
     "metadata": {},
     "output_type": "execute_result"
    }
   ],
   "source": [
    "def myadd(x, y=0): # keyword arguments are supported\n",
    "    return x + y\n",
    "b.map(myadd, y=b2).compute()"
   ]
  },
  {
   "cell_type": "code",
   "execution_count": 135,
   "metadata": {
    "ExecuteTime": {
     "end_time": "2018-03-14T21:56:53.109188Z",
     "start_time": "2018-03-14T21:56:53.042354Z"
    }
   },
   "outputs": [
    {
     "data": {
      "text/plain": [
       "[1, 2, 3, 4, 5]"
      ]
     },
     "execution_count": 135,
     "metadata": {},
     "output_type": "execute_result"
    }
   ],
   "source": [
    "b.map(myadd, y=1).compute()"
   ]
  },
  {
   "cell_type": "code",
   "execution_count": 136,
   "metadata": {
    "ExecuteTime": {
     "end_time": "2018-03-14T21:57:58.020215Z",
     "start_time": "2018-03-14T21:57:57.957915Z"
    }
   },
   "outputs": [
    {
     "data": {
      "text/plain": [
       "[4, 5, 6, 7, 8]"
      ]
     },
     "execution_count": 136,
     "metadata": {},
     "output_type": "execute_result"
    }
   ],
   "source": [
    "# Both arguments and keyword arguments can also be instances of dask.bag.Item\n",
    "b.map(myadd, b.max()).compute()"
   ]
  },
  {
   "cell_type": "markdown",
   "metadata": {},
   "source": [
    "`map_partitions(func, *args, **kwargs)` apply a function to every partition across one or more bags."
   ]
  },
  {
   "cell_type": "code",
   "execution_count": 137,
   "metadata": {
    "ExecuteTime": {
     "end_time": "2018-03-14T22:03:16.340829Z",
     "start_time": "2018-03-14T22:03:16.335028Z"
    }
   },
   "outputs": [],
   "source": [
    "b = db.from_sequence(range(1, 101), npartitions=10)\n",
    "def div(nums, den=1):\n",
    "    return [num / den for num in nums]"
   ]
  },
  {
   "cell_type": "code",
   "execution_count": 138,
   "metadata": {
    "ExecuteTime": {
     "end_time": "2018-03-14T22:03:30.921127Z",
     "start_time": "2018-03-14T22:03:30.858115Z"
    }
   },
   "outputs": [],
   "source": [
    "hi = b.max().compute()"
   ]
  },
  {
   "cell_type": "code",
   "execution_count": 139,
   "metadata": {
    "ExecuteTime": {
     "end_time": "2018-03-14T22:03:33.612457Z",
     "start_time": "2018-03-14T22:03:33.605938Z"
    }
   },
   "outputs": [
    {
     "data": {
      "text/plain": [
       "100"
      ]
     },
     "execution_count": 139,
     "metadata": {},
     "output_type": "execute_result"
    }
   ],
   "source": [
    "hi"
   ]
  },
  {
   "cell_type": "code",
   "execution_count": 140,
   "metadata": {
    "ExecuteTime": {
     "end_time": "2018-03-14T22:03:49.494201Z",
     "start_time": "2018-03-14T22:03:49.437226Z"
    }
   },
   "outputs": [
    {
     "data": {
      "text/plain": [
       "(0.01, 0.02, 0.03, 0.04, 0.05)"
      ]
     },
     "execution_count": 140,
     "metadata": {},
     "output_type": "execute_result"
    }
   ],
   "source": [
    "b.map_partitions(div, den=hi).take(5)"
   ]
  },
  {
   "cell_type": "code",
   "execution_count": 141,
   "metadata": {
    "ExecuteTime": {
     "end_time": "2018-03-14T22:03:59.294471Z",
     "start_time": "2018-03-14T22:03:59.225409Z"
    }
   },
   "outputs": [
    {
     "data": {
      "text/plain": [
       "(0.01, 0.02, 0.03, 0.04, 0.05)"
      ]
     },
     "execution_count": 141,
     "metadata": {},
     "output_type": "execute_result"
    }
   ],
   "source": [
    "b.map_partitions(div, den=b.max()).take(5)"
   ]
  },
  {
   "cell_type": "markdown",
   "metadata": {},
   "source": [
    "`max(), min(), mean()`"
   ]
  },
  {
   "cell_type": "markdown",
   "metadata": {},
   "source": [
    "`pluck(key, default='__no__default__')` selects items from all tuples/dictionaries in collection"
   ]
  },
  {
   "cell_type": "code",
   "execution_count": 144,
   "metadata": {
    "ExecuteTime": {
     "end_time": "2018-03-15T17:02:11.912266Z",
     "start_time": "2018-03-15T17:02:11.908434Z"
    }
   },
   "outputs": [],
   "source": [
    "b = db.from_sequence([{'name': 'Alice', 'credits': [1, 2, 3]},\n",
    "                   {'name': 'Bob',   'credits': [10, 20]},\n",
    "                   {'name': 'Alex',  'credits': [2, 3, 4, 10]}])"
   ]
  },
  {
   "cell_type": "code",
   "execution_count": 145,
   "metadata": {
    "ExecuteTime": {
     "end_time": "2018-03-15T17:02:23.842577Z",
     "start_time": "2018-03-15T17:02:23.768016Z"
    }
   },
   "outputs": [
    {
     "data": {
      "text/plain": [
       "['Alice', 'Bob', 'Alex']"
      ]
     },
     "execution_count": 145,
     "metadata": {},
     "output_type": "execute_result"
    }
   ],
   "source": [
    "list(b.pluck('name'))"
   ]
  },
  {
   "cell_type": "code",
   "execution_count": 146,
   "metadata": {
    "ExecuteTime": {
     "end_time": "2018-03-15T17:02:36.244440Z",
     "start_time": "2018-03-15T17:02:36.178613Z"
    }
   },
   "outputs": [
    {
     "data": {
      "text/plain": [
       "[[1, 2, 3], [10, 20], [2, 3, 4, 10]]"
      ]
     },
     "execution_count": 146,
     "metadata": {},
     "output_type": "execute_result"
    }
   ],
   "source": [
    "list(b.pluck('credits'))"
   ]
  },
  {
   "cell_type": "code",
   "execution_count": 150,
   "metadata": {
    "ExecuteTime": {
     "end_time": "2018-03-15T17:03:30.197647Z",
     "start_time": "2018-03-15T17:03:30.136322Z"
    }
   },
   "outputs": [
    {
     "data": {
      "text/plain": [
       "[2, 20, 3]"
      ]
     },
     "execution_count": 150,
     "metadata": {},
     "output_type": "execute_result"
    }
   ],
   "source": [
    "list(b.pluck('credits').pluck(1)) # zero indexed, pluck index 1 from plucked credits"
   ]
  },
  {
   "cell_type": "markdown",
   "metadata": {},
   "source": [
    "`product(other)` returns the cartesian product between two bags"
   ]
  },
  {
   "cell_type": "markdown",
   "metadata": {},
   "source": [
    "`random_sample(prob, random_state=None)` returns elements from the bag with probability of prob, where prob is a float between 0 and 1, representing probability that each element is returned, random_state (int or random.Random)"
   ]
  },
  {
   "cell_type": "code",
   "execution_count": 155,
   "metadata": {
    "ExecuteTime": {
     "end_time": "2018-03-15T17:05:56.733231Z",
     "start_time": "2018-03-15T17:05:56.728330Z"
    }
   },
   "outputs": [],
   "source": [
    "b = db.from_sequence(range(10))"
   ]
  },
  {
   "cell_type": "code",
   "execution_count": 157,
   "metadata": {
    "ExecuteTime": {
     "end_time": "2018-03-15T17:06:01.238864Z",
     "start_time": "2018-03-15T17:06:01.138844Z"
    }
   },
   "outputs": [
    {
     "data": {
      "text/plain": [
       "[1, 6, 7]"
      ]
     },
     "execution_count": 157,
     "metadata": {},
     "output_type": "execute_result"
    }
   ],
   "source": [
    "list(b.random_sample(0.25, random_state=42))"
   ]
  },
  {
   "cell_type": "markdown",
   "metadata": {},
   "source": [
    "`reduction(prepartation, aggregate, split_every=None, out_type=<class 'dask.bag.core.Item'>, name=None)` will reduce collection with reduction operations, where perpartitation is a reduction function to apply to each partition, aggregate is the reduction function to apply to the results of all partitions, split_every is the side we want to group partitions while performing reduction"
   ]
  },
  {
   "cell_type": "code",
   "execution_count": 162,
   "metadata": {
    "ExecuteTime": {
     "end_time": "2018-03-15T17:10:06.369999Z",
     "start_time": "2018-03-15T17:10:06.290211Z"
    }
   },
   "outputs": [
    {
     "data": {
      "text/plain": [
       "45"
      ]
     },
     "execution_count": 162,
     "metadata": {},
     "output_type": "execute_result"
    }
   ],
   "source": [
    "b = db.from_sequence(range(10))\n",
    "b.reduction(sum, sum).compute()"
   ]
  },
  {
   "cell_type": "markdown",
   "metadata": {},
   "source": [
    "`remove(predicate)` removes elements in collection that matches the predicate"
   ]
  },
  {
   "cell_type": "code",
   "execution_count": 163,
   "metadata": {
    "ExecuteTime": {
     "end_time": "2018-03-15T17:10:46.897744Z",
     "start_time": "2018-03-15T17:10:46.892679Z"
    }
   },
   "outputs": [],
   "source": [
    "iseven = lambda x: x % 2 == 0"
   ]
  },
  {
   "cell_type": "code",
   "execution_count": 164,
   "metadata": {
    "ExecuteTime": {
     "end_time": "2018-03-15T17:11:03.185760Z",
     "start_time": "2018-03-15T17:11:03.113053Z"
    }
   },
   "outputs": [
    {
     "data": {
      "text/plain": [
       "[1, 3, 5, 7, 9]"
      ]
     },
     "execution_count": 164,
     "metadata": {},
     "output_type": "execute_result"
    }
   ],
   "source": [
    "b = db.from_sequence(range(10))\n",
    "list(b.remove(iseven))"
   ]
  },
  {
   "cell_type": "markdown",
   "metadata": {},
   "source": [
    "`starmap(func, **kwargs)` apply a function using argument tuples from the given bag"
   ]
  },
  {
   "cell_type": "code",
   "execution_count": 165,
   "metadata": {
    "ExecuteTime": {
     "end_time": "2018-03-15T17:12:59.570193Z",
     "start_time": "2018-03-15T17:12:59.563673Z"
    }
   },
   "outputs": [],
   "source": [
    "data = [(1, 2), (3, 4), (5, 6), (7, 8), (9, 10)]\n",
    "b = db.from_sequence(data, npartitions=2)"
   ]
  },
  {
   "cell_type": "code",
   "execution_count": 166,
   "metadata": {
    "ExecuteTime": {
     "end_time": "2018-03-15T17:13:08.231798Z",
     "start_time": "2018-03-15T17:13:08.168139Z"
    }
   },
   "outputs": [
    {
     "data": {
      "text/plain": [
       "[3, 7, 11, 15, 19]"
      ]
     },
     "execution_count": 166,
     "metadata": {},
     "output_type": "execute_result"
    }
   ],
   "source": [
    "b.starmap(add).compute()"
   ]
  },
  {
   "cell_type": "markdown",
   "metadata": {},
   "source": [
    "Apply a function to each argument tuple, with additional keyword arguments:"
   ]
  },
  {
   "cell_type": "code",
   "execution_count": 167,
   "metadata": {
    "ExecuteTime": {
     "end_time": "2018-03-15T17:13:40.964161Z",
     "start_time": "2018-03-15T17:13:40.958608Z"
    }
   },
   "outputs": [],
   "source": [
    "def myadd(x, y, z=0):\n",
    "    return x + y + z"
   ]
  },
  {
   "cell_type": "code",
   "execution_count": 169,
   "metadata": {
    "ExecuteTime": {
     "end_time": "2018-03-15T17:14:35.241713Z",
     "start_time": "2018-03-15T17:14:35.176342Z"
    }
   },
   "outputs": [
    {
     "data": {
      "text/plain": [
       "[13, 17, 21, 25, 29]"
      ]
     },
     "execution_count": 169,
     "metadata": {},
     "output_type": "execute_result"
    }
   ],
   "source": [
    "b.starmap(myadd, z=10).compute()"
   ]
  },
  {
   "cell_type": "code",
   "execution_count": 170,
   "metadata": {
    "ExecuteTime": {
     "end_time": "2018-03-15T17:14:59.534884Z",
     "start_time": "2018-03-15T17:14:59.464168Z"
    }
   },
   "outputs": [
    {
     "data": {
      "text/plain": [
       "10"
      ]
     },
     "execution_count": 170,
     "metadata": {},
     "output_type": "execute_result"
    }
   ],
   "source": [
    "max_second = b.pluck(1).max()\n",
    "max_second.compute()"
   ]
  },
  {
   "cell_type": "code",
   "execution_count": 171,
   "metadata": {
    "ExecuteTime": {
     "end_time": "2018-03-15T17:15:09.081444Z",
     "start_time": "2018-03-15T17:15:09.012388Z"
    }
   },
   "outputs": [
    {
     "data": {
      "text/plain": [
       "[13, 17, 21, 25, 29]"
      ]
     },
     "execution_count": 171,
     "metadata": {},
     "output_type": "execute_result"
    }
   ],
   "source": [
    "b.starmap(myadd, z=max_second).compute()"
   ]
  },
  {
   "cell_type": "markdown",
   "metadata": {},
   "source": [
    "`std(ddof=0)` Standard Deviation: ddof means Delta Degrees of Freedom. The divisor used in calculations is N - ddof, where N represents the number of elements. By default ddof is zero."
   ]
  },
  {
   "cell_type": "markdown",
   "metadata": {},
   "source": [
    "`str` string processing function"
   ]
  },
  {
   "cell_type": "code",
   "execution_count": 175,
   "metadata": {
    "ExecuteTime": {
     "end_time": "2018-03-15T18:26:29.355663Z",
     "start_time": "2018-03-15T18:26:29.277634Z"
    }
   },
   "outputs": [
    {
     "data": {
      "text/plain": [
       "['alice smith',\n",
       " 'bob jones',\n",
       " 'charlie smith',\n",
       " 'alex kunk',\n",
       " 'albert einstien',\n",
       " 'joe smith']"
      ]
     },
     "execution_count": 175,
     "metadata": {},
     "output_type": "execute_result"
    }
   ],
   "source": [
    "b = db.from_sequence(['Alice Smith', 'Bob Jones', 'Charlie Smith', 'Alex Kunk', 'Albert Einstien', 'Joe Smith'])\n",
    "list(b.str.lower())"
   ]
  },
  {
   "cell_type": "code",
   "execution_count": 179,
   "metadata": {
    "ExecuteTime": {
     "end_time": "2018-03-15T18:27:01.275447Z",
     "start_time": "2018-03-15T18:27:01.208422Z"
    }
   },
   "outputs": [
    {
     "data": {
      "text/plain": [
       "['Alice Smith', 'Charlie Smith', 'Joe Smith']"
      ]
     },
     "execution_count": 179,
     "metadata": {},
     "output_type": "execute_result"
    }
   ],
   "source": [
    "list(b.str.match('*Smith'))"
   ]
  },
  {
   "cell_type": "code",
   "execution_count": 178,
   "metadata": {
    "ExecuteTime": {
     "end_time": "2018-03-15T18:26:41.333917Z",
     "start_time": "2018-03-15T18:26:41.259724Z"
    }
   },
   "outputs": [
    {
     "data": {
      "text/plain": [
       "['Alice Smith', 'Alex Kunk', 'Albert Einstien']"
      ]
     },
     "execution_count": 178,
     "metadata": {},
     "output_type": "execute_result"
    }
   ],
   "source": [
    "list(b.str.match('*A*'))"
   ]
  },
  {
   "cell_type": "code",
   "execution_count": 174,
   "metadata": {
    "ExecuteTime": {
     "end_time": "2018-03-15T18:15:00.780485Z",
     "start_time": "2018-03-15T18:15:00.711340Z"
    }
   },
   "outputs": [
    {
     "data": {
      "text/plain": [
       "[['Alice', 'Smith'], ['Bob', 'Jones'], ['Charlie', 'Smith']]"
      ]
     },
     "execution_count": 174,
     "metadata": {},
     "output_type": "execute_result"
    }
   ],
   "source": [
    "list(b.str.split(' '))"
   ]
  },
  {
   "cell_type": "markdown",
   "metadata": {},
   "source": [
    "`sum(split_every=None)` Sum all elements"
   ]
  },
  {
   "cell_type": "markdown",
   "metadata": {},
   "source": [
    "`take(k, npartitions=1, compute=True, warn=True)` take the first k elements (k is number of elements to return), compute is whether to compute the result, whether to warn if the number of elements returned is less than requested, default is True."
   ]
  },
  {
   "cell_type": "markdown",
   "metadata": {},
   "source": [
    "`topk(k, key=None, split_every=None)` K largest elements in collection, optionally ordered by some key function"
   ]
  },
  {
   "cell_type": "code",
   "execution_count": 180,
   "metadata": {
    "ExecuteTime": {
     "end_time": "2018-03-15T18:30:40.041887Z",
     "start_time": "2018-03-15T18:30:39.973983Z"
    }
   },
   "outputs": [
    {
     "data": {
      "text/plain": [
       "[11, 10]"
      ]
     },
     "execution_count": 180,
     "metadata": {},
     "output_type": "execute_result"
    }
   ],
   "source": [
    "b = db.from_sequence([10, 3, 5,7, 11, 4, 8])\n",
    "list(b.topk(2))"
   ]
  },
  {
   "cell_type": "code",
   "execution_count": 181,
   "metadata": {
    "ExecuteTime": {
     "end_time": "2018-03-15T18:31:06.779941Z",
     "start_time": "2018-03-15T18:31:06.711981Z"
    }
   },
   "outputs": [
    {
     "data": {
      "text/plain": [
       "[10, 4]"
      ]
     },
     "execution_count": 181,
     "metadata": {},
     "output_type": "execute_result"
    }
   ],
   "source": [
    "list(b.topk(2, key=lambda x: x % 2 == 0))"
   ]
  },
  {
   "cell_type": "code",
   "execution_count": 182,
   "metadata": {
    "ExecuteTime": {
     "end_time": "2018-03-15T18:31:23.573275Z",
     "start_time": "2018-03-15T18:31:23.498938Z"
    }
   },
   "outputs": [
    {
     "data": {
      "text/plain": [
       "[3, 4]"
      ]
     },
     "execution_count": 182,
     "metadata": {},
     "output_type": "execute_result"
    }
   ],
   "source": [
    "list(b.topk(2, lambda x: -x))  "
   ]
  },
  {
   "cell_type": "markdown",
   "metadata": {},
   "source": [
    "`unzip(n) ` transforming a bag of tuples to n bags of their elements"
   ]
  },
  {
   "cell_type": "code",
   "execution_count": 183,
   "metadata": {
    "ExecuteTime": {
     "end_time": "2018-03-15T18:32:23.724863Z",
     "start_time": "2018-03-15T18:32:23.719359Z"
    }
   },
   "outputs": [],
   "source": [
    "b = db.from_sequence([(i, i + 1, i + 2) for i in range(10)])"
   ]
  },
  {
   "cell_type": "code",
   "execution_count": 190,
   "metadata": {
    "ExecuteTime": {
     "end_time": "2018-03-15T18:33:30.557536Z",
     "start_time": "2018-03-15T18:33:30.492567Z"
    }
   },
   "outputs": [
    {
     "data": {
      "text/plain": [
       "[(0, 1, 2),\n",
       " (1, 2, 3),\n",
       " (2, 3, 4),\n",
       " (3, 4, 5),\n",
       " (4, 5, 6),\n",
       " (5, 6, 7),\n",
       " (6, 7, 8),\n",
       " (7, 8, 9),\n",
       " (8, 9, 10),\n",
       " (9, 10, 11)]"
      ]
     },
     "execution_count": 190,
     "metadata": {},
     "output_type": "execute_result"
    }
   ],
   "source": [
    "b.compute()"
   ]
  },
  {
   "cell_type": "code",
   "execution_count": 184,
   "metadata": {
    "ExecuteTime": {
     "end_time": "2018-03-15T18:32:35.995710Z",
     "start_time": "2018-03-15T18:32:35.992640Z"
    }
   },
   "outputs": [],
   "source": [
    "first, second, third = b.unzip(3)"
   ]
  },
  {
   "cell_type": "code",
   "execution_count": 186,
   "metadata": {
    "ExecuteTime": {
     "end_time": "2018-03-15T18:32:53.557035Z",
     "start_time": "2018-03-15T18:32:53.552760Z"
    }
   },
   "outputs": [
    {
     "data": {
      "text/plain": [
       "True"
      ]
     },
     "execution_count": 186,
     "metadata": {},
     "output_type": "execute_result"
    }
   ],
   "source": [
    "isinstance(first, db.Bag)"
   ]
  },
  {
   "cell_type": "code",
   "execution_count": 187,
   "metadata": {
    "ExecuteTime": {
     "end_time": "2018-03-15T18:33:01.372784Z",
     "start_time": "2018-03-15T18:33:01.309771Z"
    }
   },
   "outputs": [
    {
     "data": {
      "text/plain": [
       "[0, 1, 2, 3, 4, 5, 6, 7, 8, 9]"
      ]
     },
     "execution_count": 187,
     "metadata": {},
     "output_type": "execute_result"
    }
   ],
   "source": [
    "first.compute()"
   ]
  },
  {
   "cell_type": "code",
   "execution_count": 188,
   "metadata": {
    "ExecuteTime": {
     "end_time": "2018-03-15T18:33:04.934284Z",
     "start_time": "2018-03-15T18:33:04.869391Z"
    }
   },
   "outputs": [
    {
     "data": {
      "text/plain": [
       "[1, 2, 3, 4, 5, 6, 7, 8, 9, 10]"
      ]
     },
     "execution_count": 188,
     "metadata": {},
     "output_type": "execute_result"
    }
   ],
   "source": [
    "second.compute()"
   ]
  },
  {
   "cell_type": "code",
   "execution_count": 189,
   "metadata": {
    "ExecuteTime": {
     "end_time": "2018-03-15T18:33:10.499949Z",
     "start_time": "2018-03-15T18:33:10.436913Z"
    }
   },
   "outputs": [
    {
     "data": {
      "text/plain": [
       "[2, 3, 4, 5, 6, 7, 8, 9, 10, 11]"
      ]
     },
     "execution_count": 189,
     "metadata": {},
     "output_type": "execute_result"
    }
   ],
   "source": [
    "third.compute()"
   ]
  },
  {
   "cell_type": "markdown",
   "metadata": {},
   "source": [
    "`var(ddof=0)` compute variance"
   ]
  },
  {
   "cell_type": "code",
   "execution_count": 208,
   "metadata": {
    "ExecuteTime": {
     "end_time": "2018-03-15T18:49:00.939655Z",
     "start_time": "2018-03-15T18:49:00.934446Z"
    }
   },
   "outputs": [],
   "source": [
    "b = db.range(100, npartitions=10)"
   ]
  },
  {
   "cell_type": "code",
   "execution_count": null,
   "metadata": {},
   "outputs": [],
   "source": [
    "b.var().compute()"
   ]
  },
  {
   "cell_type": "code",
   "execution_count": 194,
   "metadata": {
    "ExecuteTime": {
     "end_time": "2018-03-15T18:35:02.373994Z",
     "start_time": "2018-03-15T18:35:02.310957Z"
    }
   },
   "outputs": [
    {
     "data": {
      "text/plain": [
       "[0, 1, 2, 3, 4]"
      ]
     },
     "execution_count": 194,
     "metadata": {},
     "output_type": "execute_result"
    }
   ],
   "source": [
    "b = db.range(5, npartitions=2)\n",
    "list(b)"
   ]
  },
  {
   "cell_type": "code",
   "execution_count": null,
   "metadata": {},
   "outputs": [],
   "source": []
  }
 ],
 "metadata": {
  "kernelspec": {
   "display_name": "Python 3",
   "language": "python",
   "name": "python3"
  },
  "language_info": {
   "codemirror_mode": {
    "name": "ipython",
    "version": 3
   },
   "file_extension": ".py",
   "mimetype": "text/x-python",
   "name": "python",
   "nbconvert_exporter": "python",
   "pygments_lexer": "ipython3",
   "version": "3.6.4"
  }
 },
 "nbformat": 4,
 "nbformat_minor": 2
}
